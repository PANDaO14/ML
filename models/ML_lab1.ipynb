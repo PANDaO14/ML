{
  "cells": [
    {
      "cell_type": "markdown",
      "id": "c908ad9f",
      "metadata": {
        "id": "c908ad9f"
      },
      "source": [
        "# **Лабораторная работа 1. Введение в машинное обучение. Обучение с учителем. Задача регрессии**"
      ]
    },
    {
      "cell_type": "markdown",
      "id": "8b0b1476",
      "metadata": {
        "id": "8b0b1476"
      },
      "source": [
        "## Преобразование датасета"
      ]
    },
    {
      "cell_type": "code",
      "execution_count": 3,
      "id": "56a1f2d7",
      "metadata": {
        "colab": {
          "base_uri": "https://localhost:8080/",
          "height": 424
        },
        "id": "56a1f2d7",
        "outputId": "33ae90aa-e411-45c6-e5b6-603c9e2e81d9"
      },
      "outputs": [
        {
          "data": {
            "text/html": [
              "<div>\n",
              "<style scoped>\n",
              "    .dataframe tbody tr th:only-of-type {\n",
              "        vertical-align: middle;\n",
              "    }\n",
              "\n",
              "    .dataframe tbody tr th {\n",
              "        vertical-align: top;\n",
              "    }\n",
              "\n",
              "    .dataframe thead th {\n",
              "        text-align: right;\n",
              "    }\n",
              "</style>\n",
              "<table border=\"1\" class=\"dataframe\">\n",
              "  <thead>\n",
              "    <tr style=\"text-align: right;\">\n",
              "      <th></th>\n",
              "      <th>id</th>\n",
              "      <th>vendor_id</th>\n",
              "      <th>pickup_datetime</th>\n",
              "      <th>dropoff_datetime</th>\n",
              "      <th>passenger_count</th>\n",
              "      <th>pickup_longitude</th>\n",
              "      <th>pickup_latitude</th>\n",
              "      <th>dropoff_longitude</th>\n",
              "      <th>dropoff_latitude</th>\n",
              "      <th>trip_duration</th>\n",
              "    </tr>\n",
              "  </thead>\n",
              "  <tbody>\n",
              "    <tr>\n",
              "      <th>0</th>\n",
              "      <td>id1080784</td>\n",
              "      <td>2.0</td>\n",
              "      <td>2016-02-29 16:40:21</td>\n",
              "      <td>2016-02-29 16:47:01</td>\n",
              "      <td>1</td>\n",
              "      <td>-73.953918</td>\n",
              "      <td>40.778873</td>\n",
              "      <td>-73.963875</td>\n",
              "      <td>40.771164</td>\n",
              "      <td>400</td>\n",
              "    </tr>\n",
              "    <tr>\n",
              "      <th>1</th>\n",
              "      <td>id0889885</td>\n",
              "      <td>1.0</td>\n",
              "      <td>2016-03-11 23:35:37</td>\n",
              "      <td>2016-03-11 23:53:57</td>\n",
              "      <td>2</td>\n",
              "      <td>-73.988312</td>\n",
              "      <td>40.731743</td>\n",
              "      <td>-73.994751</td>\n",
              "      <td>40.694931</td>\n",
              "      <td>1100</td>\n",
              "    </tr>\n",
              "    <tr>\n",
              "      <th>2</th>\n",
              "      <td>id0857912</td>\n",
              "      <td>2.0</td>\n",
              "      <td>2016-02-21 17:59:33</td>\n",
              "      <td>2016-02-21 18:26:48</td>\n",
              "      <td>2</td>\n",
              "      <td>-73.997314</td>\n",
              "      <td>40.721458</td>\n",
              "      <td>-73.948029</td>\n",
              "      <td>40.774918</td>\n",
              "      <td>1635</td>\n",
              "    </tr>\n",
              "    <tr>\n",
              "      <th>3</th>\n",
              "      <td>id3744273</td>\n",
              "      <td>2.0</td>\n",
              "      <td>2016-01-05 09:44:31</td>\n",
              "      <td>2016-01-05 10:03:32</td>\n",
              "      <td>6</td>\n",
              "      <td>-73.961670</td>\n",
              "      <td>40.759720</td>\n",
              "      <td>-73.956779</td>\n",
              "      <td>40.780628</td>\n",
              "      <td>1141</td>\n",
              "    </tr>\n",
              "    <tr>\n",
              "      <th>4</th>\n",
              "      <td>id0232939</td>\n",
              "      <td>1.0</td>\n",
              "      <td>2016-02-17 06:42:23</td>\n",
              "      <td>2016-02-17 06:56:31</td>\n",
              "      <td>1</td>\n",
              "      <td>-74.017120</td>\n",
              "      <td>40.708469</td>\n",
              "      <td>-73.988182</td>\n",
              "      <td>40.740631</td>\n",
              "      <td>848</td>\n",
              "    </tr>\n",
              "    <tr>\n",
              "      <th>...</th>\n",
              "      <td>...</td>\n",
              "      <td>...</td>\n",
              "      <td>...</td>\n",
              "      <td>...</td>\n",
              "      <td>...</td>\n",
              "      <td>...</td>\n",
              "      <td>...</td>\n",
              "      <td>...</td>\n",
              "      <td>...</td>\n",
              "      <td>...</td>\n",
              "    </tr>\n",
              "    <tr>\n",
              "      <th>729317</th>\n",
              "      <td>id3905982</td>\n",
              "      <td>2.0</td>\n",
              "      <td>2016-05-21 13:29:38</td>\n",
              "      <td>2016-05-21 13:34:34</td>\n",
              "      <td>2</td>\n",
              "      <td>-73.965919</td>\n",
              "      <td>40.789780</td>\n",
              "      <td>-73.952637</td>\n",
              "      <td>40.789181</td>\n",
              "      <td>296</td>\n",
              "    </tr>\n",
              "    <tr>\n",
              "      <th>729318</th>\n",
              "      <td>id0102861</td>\n",
              "      <td>1.0</td>\n",
              "      <td>2016-02-22 00:43:11</td>\n",
              "      <td>2016-02-22 00:48:26</td>\n",
              "      <td>1</td>\n",
              "      <td>-73.996666</td>\n",
              "      <td>40.737434</td>\n",
              "      <td>-74.001320</td>\n",
              "      <td>40.731911</td>\n",
              "      <td>315</td>\n",
              "    </tr>\n",
              "    <tr>\n",
              "      <th>729319</th>\n",
              "      <td>id0439699</td>\n",
              "      <td>1.0</td>\n",
              "      <td>2016-04-15 18:56:48</td>\n",
              "      <td>2016-04-15 19:08:01</td>\n",
              "      <td>1</td>\n",
              "      <td>-73.997849</td>\n",
              "      <td>40.761696</td>\n",
              "      <td>-74.001488</td>\n",
              "      <td>40.741207</td>\n",
              "      <td>673</td>\n",
              "    </tr>\n",
              "    <tr>\n",
              "      <th>729320</th>\n",
              "      <td>id2078912</td>\n",
              "      <td>1.0</td>\n",
              "      <td>2016-06-19 09:50:47</td>\n",
              "      <td>2016-06-19 09:58:14</td>\n",
              "      <td>1</td>\n",
              "      <td>-74.006706</td>\n",
              "      <td>40.708244</td>\n",
              "      <td>-74.013550</td>\n",
              "      <td>40.713814</td>\n",
              "      <td>447</td>\n",
              "    </tr>\n",
              "    <tr>\n",
              "      <th>729321</th>\n",
              "      <td>id1053441</td>\n",
              "      <td>2.0</td>\n",
              "      <td>2016-01-01 17:24:16</td>\n",
              "      <td>2016-01-01 17:44:40</td>\n",
              "      <td>4</td>\n",
              "      <td>-74.003342</td>\n",
              "      <td>40.743839</td>\n",
              "      <td>-73.945847</td>\n",
              "      <td>40.712841</td>\n",
              "      <td>1224</td>\n",
              "    </tr>\n",
              "  </tbody>\n",
              "</table>\n",
              "<p>729322 rows × 10 columns</p>\n",
              "</div>"
            ],
            "text/plain": [
              "               id  vendor_id      pickup_datetime     dropoff_datetime  \\\n",
              "0       id1080784        2.0  2016-02-29 16:40:21  2016-02-29 16:47:01   \n",
              "1       id0889885        1.0  2016-03-11 23:35:37  2016-03-11 23:53:57   \n",
              "2       id0857912        2.0  2016-02-21 17:59:33  2016-02-21 18:26:48   \n",
              "3       id3744273        2.0  2016-01-05 09:44:31  2016-01-05 10:03:32   \n",
              "4       id0232939        1.0  2016-02-17 06:42:23  2016-02-17 06:56:31   \n",
              "...           ...        ...                  ...                  ...   \n",
              "729317  id3905982        2.0  2016-05-21 13:29:38  2016-05-21 13:34:34   \n",
              "729318  id0102861        1.0  2016-02-22 00:43:11  2016-02-22 00:48:26   \n",
              "729319  id0439699        1.0  2016-04-15 18:56:48  2016-04-15 19:08:01   \n",
              "729320  id2078912        1.0  2016-06-19 09:50:47  2016-06-19 09:58:14   \n",
              "729321  id1053441        2.0  2016-01-01 17:24:16  2016-01-01 17:44:40   \n",
              "\n",
              "        passenger_count  pickup_longitude  pickup_latitude  dropoff_longitude  \\\n",
              "0                     1        -73.953918        40.778873         -73.963875   \n",
              "1                     2        -73.988312        40.731743         -73.994751   \n",
              "2                     2        -73.997314        40.721458         -73.948029   \n",
              "3                     6        -73.961670        40.759720         -73.956779   \n",
              "4                     1        -74.017120        40.708469         -73.988182   \n",
              "...                 ...               ...              ...                ...   \n",
              "729317                2        -73.965919        40.789780         -73.952637   \n",
              "729318                1        -73.996666        40.737434         -74.001320   \n",
              "729319                1        -73.997849        40.761696         -74.001488   \n",
              "729320                1        -74.006706        40.708244         -74.013550   \n",
              "729321                4        -74.003342        40.743839         -73.945847   \n",
              "\n",
              "        dropoff_latitude  trip_duration  \n",
              "0              40.771164            400  \n",
              "1              40.694931           1100  \n",
              "2              40.774918           1635  \n",
              "3              40.780628           1141  \n",
              "4              40.740631            848  \n",
              "...                  ...            ...  \n",
              "729317         40.789181            296  \n",
              "729318         40.731911            315  \n",
              "729319         40.741207            673  \n",
              "729320         40.713814            447  \n",
              "729321         40.712841           1224  \n",
              "\n",
              "[729322 rows x 10 columns]"
            ]
          },
          "execution_count": 3,
          "metadata": {},
          "output_type": "execute_result"
        }
      ],
      "source": [
        "import pandas as pd\n",
        "import matplotlib.pyplot as plt\n",
        "\n",
        "data = pd.read_csv(\"../data/regression/trip_duration_task.csv\").drop_duplicates()\n",
        "data"
      ]
    },
    {
      "cell_type": "code",
      "execution_count": null,
      "id": "xRFJrUFZCi9o",
      "metadata": {
        "colab": {
          "base_uri": "https://localhost:8080/",
          "height": 1000
        },
        "id": "xRFJrUFZCi9o",
        "outputId": "9f9d48ca-8dfc-433c-9e88-94b474ef5a77"
      },
      "outputs": [
        {
          "data": {
            "text/plain": [
              "<Axes: xlabel='id'>"
            ]
          },
          "metadata": {},
          "output_type": "display_data"
        },
        {
          "data": {
            "image/png": "[encoded data removed]",
            "text/plain": [
              "<Figure size 432x288 with 1 Axes>"
            ]
          },
          "metadata": {
            "needs_background": "light"
          },
          "output_type": "display_data"
        },
        {
          "data": {
            "text/plain": [
              "<Axes: xlabel='vendor_id'>"
            ]
          },
          "metadata": {},
          "output_type": "display_data"
        },
        {
          "data": {
            "image/png": "[encoded data removed]",
            "text/plain": [
              "<Figure size 432x288 with 1 Axes>"
            ]
          },
          "metadata": {
            "needs_background": "light"
          },
          "output_type": "display_data"
        },
        {
          "data": {
            "text/plain": [
              "<Axes: xlabel='pickup_datetime'>"
            ]
          },
          "metadata": {},
          "output_type": "display_data"
        },
        {
          "data": {
            "image/png": "[encoded data removed]",
            "text/plain": [
              "<Figure size 432x288 with 1 Axes>"
            ]
          },
          "metadata": {
            "needs_background": "light"
          },
          "output_type": "display_data"
        },
        {
          "data": {
            "text/plain": [
              "<Axes: xlabel='dropoff_datetime'>"
            ]
          },
          "metadata": {},
          "output_type": "display_data"
        },
        {
          "data": {
            "image/png": "[encoded data removed]",
            "text/plain": [
              "<Figure size 432x288 with 1 Axes>"
            ]
          },
          "metadata": {
            "needs_background": "light"
          },
          "output_type": "display_data"
        },
        {
          "data": {
            "text/plain": [
              "<Axes: xlabel='passenger_count'>"
            ]
          },
          "metadata": {},
          "output_type": "display_data"
        },
        {
          "data": {
            "image/png": "[encoded data removed]",
            "text/plain": [
              "<Figure size 432x288 with 1 Axes>"
            ]
          },
          "metadata": {
            "needs_background": "light"
          },
          "output_type": "display_data"
        },
        {
          "data": {
            "text/plain": [
              "<Axes: xlabel='pickup_longitude'>"
            ]
          },
          "metadata": {},
          "output_type": "display_data"
        },
        {
          "data": {
            "image/png": "[encoded data removed]",
            "text/plain": [
              "<Figure size 432x288 with 1 Axes>"
            ]
          },
          "metadata": {
            "needs_background": "light"
          },
          "output_type": "display_data"
        },
        {
          "data": {
            "text/plain": [
              "<Axes: xlabel='pickup_latitude'>"
            ]
          },
          "metadata": {},
          "output_type": "display_data"
        },
        {
          "data": {
            "image/png": "[encoded data removed]",
            "text/plain": [
              "<Figure size 432x288 with 1 Axes>"
            ]
          },
          "metadata": {
            "needs_background": "light"
          },
          "output_type": "display_data"
        },
        {
          "data": {
            "text/plain": [
              "<Axes: xlabel='dropoff_longitude'>"
            ]
          },
          "metadata": {},
          "output_type": "display_data"
        },
        {
          "data": {
            "image/png": "[encoded data removed]",
            "text/plain": [
              "<Figure size 432x288 with 1 Axes>"
            ]
          },
          "metadata": {
            "needs_background": "light"
          },
          "output_type": "display_data"
        },
        {
          "data": {
            "text/plain": [
              "<Axes: xlabel='dropoff_latitude'>"
            ]
          },
          "metadata": {},
          "output_type": "display_data"
        },
        {
          "data": {
            "image/png": "[encoded data removed]",
            "text/plain": [
              "<Figure size 432x288 with 1 Axes>"
            ]
          },
          "metadata": {
            "needs_background": "light"
          },
          "output_type": "display_data"
        },
        {
          "ename": "KeyError",
          "evalue": "ignored",
          "output_type": "error",
          "traceback": [
            "\u001b[0;31m---------------------------------------------------------------------------\u001b[0m",
            "\u001b[0;31mKeyError\u001b[0m                                  Traceback (most recent call last)",
            "\u001b[0;32m/usr/local/lib/python3.9/dist-packages/pandas/core/indexes/base.py\u001b[0m in \u001b[0;36mget_loc\u001b[0;34m(self, key, method, tolerance)\u001b[0m\n\u001b[1;32m   3628\u001b[0m             \u001b[0;32mtry\u001b[0m\u001b[0;34m:\u001b[0m\u001b[0;34m\u001b[0m\u001b[0;34m\u001b[0m\u001b[0m\n\u001b[0;32m-> 3629\u001b[0;31m                 \u001b[0;32mreturn\u001b[0m \u001b[0mself\u001b[0m\u001b[0;34m.\u001b[0m\u001b[0m_engine\u001b[0m\u001b[0;34m.\u001b[0m\u001b[0mget_loc\u001b[0m\u001b[0;34m(\u001b[0m\u001b[0mcasted_key\u001b[0m\u001b[0;34m)\u001b[0m\u001b[0;34m\u001b[0m\u001b[0;34m\u001b[0m\u001b[0m\n\u001b[0m\u001b[1;32m   3630\u001b[0m             \u001b[0;32mexcept\u001b[0m \u001b[0mKeyError\u001b[0m \u001b[0;32mas\u001b[0m \u001b[0merr\u001b[0m\u001b[0;34m:\u001b[0m\u001b[0;34m\u001b[0m\u001b[0;34m\u001b[0m\u001b[0m\n",
            "\u001b[0;32m/usr/local/lib/python3.9/dist-packages/pandas/_libs/index.pyx\u001b[0m in \u001b[0;36mpandas._libs.index.IndexEngine.get_loc\u001b[0;34m()\u001b[0m\n",
            "\u001b[0;32m/usr/local/lib/python3.9/dist-packages/pandas/_libs/index.pyx\u001b[0m in \u001b[0;36mpandas._libs.index.IndexEngine.get_loc\u001b[0;34m()\u001b[0m\n",
            "\u001b[0;32mpandas/_libs/hashtable_class_helper.pxi\u001b[0m in \u001b[0;36mpandas._libs.hashtable.PyObjectHashTable.get_item\u001b[0;34m()\u001b[0m\n",
            "\u001b[0;32mpandas/_libs/hashtable_class_helper.pxi\u001b[0m in \u001b[0;36mpandas._libs.hashtable.PyObjectHashTable.get_item\u001b[0;34m()\u001b[0m\n",
            "\u001b[0;31mKeyError\u001b[0m: 'trip_duration'",
            "\nThe above exception was the direct cause of the following exception:\n",
            "\u001b[0;31mKeyError\u001b[0m                                  Traceback (most recent call last)",
            "\u001b[0;32m<ipython-input-4-764f8495cb42>\u001b[0m in \u001b[0;36m<module>\u001b[0;34m\u001b[0m\n\u001b[1;32m      1\u001b[0m \u001b[0;32mfor\u001b[0m \u001b[0mcolumn\u001b[0m \u001b[0;32min\u001b[0m \u001b[0mdata\u001b[0m\u001b[0;34m.\u001b[0m\u001b[0mcolumns\u001b[0m\u001b[0;34m:\u001b[0m\u001b[0;34m\u001b[0m\u001b[0;34m\u001b[0m\u001b[0m\n\u001b[0;32m----> 2\u001b[0;31m   \u001b[0mdisplay\u001b[0m\u001b[0;34m(\u001b[0m\u001b[0mdata\u001b[0m\u001b[0;34m.\u001b[0m\u001b[0mplot\u001b[0m\u001b[0;34m(\u001b[0m\u001b[0mcolumn\u001b[0m\u001b[0;34m,\u001b[0m \u001b[0mdata\u001b[0m\u001b[0;34m.\u001b[0m\u001b[0mcolumns\u001b[0m\u001b[0;34m[\u001b[0m\u001b[0;34m-\u001b[0m\u001b[0;36m1\u001b[0m\u001b[0;34m]\u001b[0m\u001b[0;34m)\u001b[0m\u001b[0;34m)\u001b[0m\u001b[0;34m\u001b[0m\u001b[0;34m\u001b[0m\u001b[0m\n\u001b[0m\u001b[1;32m      3\u001b[0m   \u001b[0mplt\u001b[0m\u001b[0;34m.\u001b[0m\u001b[0mshow\u001b[0m\u001b[0;34m(\u001b[0m\u001b[0;34m)\u001b[0m\u001b[0;34m\u001b[0m\u001b[0;34m\u001b[0m\u001b[0m\n",
            "\u001b[0;32m/usr/local/lib/python3.9/dist-packages/pandas/plotting/_core.py\u001b[0m in \u001b[0;36m__call__\u001b[0;34m(self, *args, **kwargs)\u001b[0m\n\u001b[1;32m    956\u001b[0m \u001b[0;34m\u001b[0m\u001b[0m\n\u001b[1;32m    957\u001b[0m                 \u001b[0;31m# don't overwrite\u001b[0m\u001b[0;34m\u001b[0m\u001b[0;34m\u001b[0m\u001b[0m\n\u001b[0;32m--> 958\u001b[0;31m                 \u001b[0mdata\u001b[0m \u001b[0;34m=\u001b[0m \u001b[0mdata\u001b[0m\u001b[0;34m[\u001b[0m\u001b[0my\u001b[0m\u001b[0;34m]\u001b[0m\u001b[0;34m.\u001b[0m\u001b[0mcopy\u001b[0m\u001b[0;34m(\u001b[0m\u001b[0;34m)\u001b[0m\u001b[0;34m\u001b[0m\u001b[0;34m\u001b[0m\u001b[0m\n\u001b[0m\u001b[1;32m    959\u001b[0m \u001b[0;34m\u001b[0m\u001b[0m\n\u001b[1;32m    960\u001b[0m                 \u001b[0;32mif\u001b[0m \u001b[0misinstance\u001b[0m\u001b[0;34m(\u001b[0m\u001b[0mdata\u001b[0m\u001b[0;34m,\u001b[0m \u001b[0mABCSeries\u001b[0m\u001b[0;34m)\u001b[0m\u001b[0;34m:\u001b[0m\u001b[0;34m\u001b[0m\u001b[0;34m\u001b[0m\u001b[0m\n",
            "\u001b[0;32m/usr/local/lib/python3.9/dist-packages/pandas/core/frame.py\u001b[0m in \u001b[0;36m__getitem__\u001b[0;34m(self, key)\u001b[0m\n\u001b[1;32m   3503\u001b[0m             \u001b[0;32mif\u001b[0m \u001b[0mself\u001b[0m\u001b[0;34m.\u001b[0m\u001b[0mcolumns\u001b[0m\u001b[0;34m.\u001b[0m\u001b[0mnlevels\u001b[0m \u001b[0;34m>\u001b[0m \u001b[0;36m1\u001b[0m\u001b[0;34m:\u001b[0m\u001b[0;34m\u001b[0m\u001b[0;34m\u001b[0m\u001b[0m\n\u001b[1;32m   3504\u001b[0m                 \u001b[0;32mreturn\u001b[0m \u001b[0mself\u001b[0m\u001b[0;34m.\u001b[0m\u001b[0m_getitem_multilevel\u001b[0m\u001b[0;34m(\u001b[0m\u001b[0mkey\u001b[0m\u001b[0;34m)\u001b[0m\u001b[0;34m\u001b[0m\u001b[0;34m\u001b[0m\u001b[0m\n\u001b[0;32m-> 3505\u001b[0;31m             \u001b[0mindexer\u001b[0m \u001b[0;34m=\u001b[0m \u001b[0mself\u001b[0m\u001b[0;34m.\u001b[0m\u001b[0mcolumns\u001b[0m\u001b[0;34m.\u001b[0m\u001b[0mget_loc\u001b[0m\u001b[0;34m(\u001b[0m\u001b[0mkey\u001b[0m\u001b[0;34m)\u001b[0m\u001b[0;34m\u001b[0m\u001b[0;34m\u001b[0m\u001b[0m\n\u001b[0m\u001b[1;32m   3506\u001b[0m             \u001b[0;32mif\u001b[0m \u001b[0mis_integer\u001b[0m\u001b[0;34m(\u001b[0m\u001b[0mindexer\u001b[0m\u001b[0;34m)\u001b[0m\u001b[0;34m:\u001b[0m\u001b[0;34m\u001b[0m\u001b[0;34m\u001b[0m\u001b[0m\n\u001b[1;32m   3507\u001b[0m                 \u001b[0mindexer\u001b[0m \u001b[0;34m=\u001b[0m \u001b[0;34m[\u001b[0m\u001b[0mindexer\u001b[0m\u001b[0;34m]\u001b[0m\u001b[0;34m\u001b[0m\u001b[0;34m\u001b[0m\u001b[0m\n",
            "\u001b[0;32m/usr/local/lib/python3.9/dist-packages/pandas/core/indexes/base.py\u001b[0m in \u001b[0;36mget_loc\u001b[0;34m(self, key, method, tolerance)\u001b[0m\n\u001b[1;32m   3629\u001b[0m                 \u001b[0;32mreturn\u001b[0m \u001b[0mself\u001b[0m\u001b[0;34m.\u001b[0m\u001b[0m_engine\u001b[0m\u001b[0;34m.\u001b[0m\u001b[0mget_loc\u001b[0m\u001b[0;34m(\u001b[0m\u001b[0mcasted_key\u001b[0m\u001b[0;34m)\u001b[0m\u001b[0;34m\u001b[0m\u001b[0;34m\u001b[0m\u001b[0m\n\u001b[1;32m   3630\u001b[0m             \u001b[0;32mexcept\u001b[0m \u001b[0mKeyError\u001b[0m \u001b[0;32mas\u001b[0m \u001b[0merr\u001b[0m\u001b[0;34m:\u001b[0m\u001b[0;34m\u001b[0m\u001b[0;34m\u001b[0m\u001b[0m\n\u001b[0;32m-> 3631\u001b[0;31m                 \u001b[0;32mraise\u001b[0m \u001b[0mKeyError\u001b[0m\u001b[0;34m(\u001b[0m\u001b[0mkey\u001b[0m\u001b[0;34m)\u001b[0m \u001b[0;32mfrom\u001b[0m \u001b[0merr\u001b[0m\u001b[0;34m\u001b[0m\u001b[0;34m\u001b[0m\u001b[0m\n\u001b[0m\u001b[1;32m   3632\u001b[0m             \u001b[0;32mexcept\u001b[0m \u001b[0mTypeError\u001b[0m\u001b[0;34m:\u001b[0m\u001b[0;34m\u001b[0m\u001b[0;34m\u001b[0m\u001b[0m\n\u001b[1;32m   3633\u001b[0m                 \u001b[0;31m# If we have a listlike key, _check_indexing_error will raise\u001b[0m\u001b[0;34m\u001b[0m\u001b[0;34m\u001b[0m\u001b[0m\n",
            "\u001b[0;31mKeyError\u001b[0m: 'trip_duration'"
          ]
        }
      ],
      "source": [
        "for column in data.columns:\n",
        "  display(data.plot(column, data.columns[-1]))\n",
        "  plt.show()"
      ]
    },
    {
      "cell_type": "code",
      "execution_count": null,
      "id": "57a3fddd",
      "metadata": {
        "colab": {
          "base_uri": "https://localhost:8080/",
          "height": 269
        },
        "id": "57a3fddd",
        "outputId": "d60758a1-a68b-4a08-c09b-56e6016e8684"
      },
      "outputs": [
        {
          "data": {
            "text/html": [
              "\n",
              "  <div id=\"df-976840db-5a2e-4e83-9fb6-f79143d1663a\">\n",
              "    <div class=\"colab-df-container\">\n",
              "      <div>\n",
              "<style scoped>\n",
              "    .dataframe tbody tr th:only-of-type {\n",
              "        vertical-align: middle;\n",
              "    }\n",
              "\n",
              "    .dataframe tbody tr th {\n",
              "        vertical-align: top;\n",
              "    }\n",
              "\n",
              "    .dataframe thead th {\n",
              "        text-align: right;\n",
              "    }\n",
              "</style>\n",
              "<table border=\"1\" class=\"dataframe\">\n",
              "  <thead>\n",
              "    <tr style=\"text-align: right;\">\n",
              "      <th></th>\n",
              "      <th>vendor_id</th>\n",
              "      <th>passenger_count</th>\n",
              "      <th>pickup_longitude</th>\n",
              "      <th>pickup_latitude</th>\n",
              "      <th>dropoff_longitude</th>\n",
              "      <th>dropoff_latitude</th>\n",
              "      <th>trip_duration</th>\n",
              "    </tr>\n",
              "  </thead>\n",
              "  <tbody>\n",
              "    <tr>\n",
              "      <th>vendor_id</th>\n",
              "      <td>1.000000</td>\n",
              "      <td>0.286484</td>\n",
              "      <td>0.008197</td>\n",
              "      <td>0.002799</td>\n",
              "      <td>0.002394</td>\n",
              "      <td>0.005215</td>\n",
              "      <td>0.027760</td>\n",
              "    </tr>\n",
              "    <tr>\n",
              "      <th>passenger_count</th>\n",
              "      <td>0.286484</td>\n",
              "      <td>1.000000</td>\n",
              "      <td>0.001163</td>\n",
              "      <td>-0.004676</td>\n",
              "      <td>-0.000027</td>\n",
              "      <td>-0.003944</td>\n",
              "      <td>0.013022</td>\n",
              "    </tr>\n",
              "    <tr>\n",
              "      <th>pickup_longitude</th>\n",
              "      <td>0.008197</td>\n",
              "      <td>0.001163</td>\n",
              "      <td>1.000000</td>\n",
              "      <td>0.047811</td>\n",
              "      <td>0.780647</td>\n",
              "      <td>0.118473</td>\n",
              "      <td>0.035447</td>\n",
              "    </tr>\n",
              "    <tr>\n",
              "      <th>pickup_latitude</th>\n",
              "      <td>0.002799</td>\n",
              "      <td>-0.004676</td>\n",
              "      <td>0.047811</td>\n",
              "      <td>1.000000</td>\n",
              "      <td>0.120090</td>\n",
              "      <td>0.479514</td>\n",
              "      <td>-0.038175</td>\n",
              "    </tr>\n",
              "    <tr>\n",
              "      <th>dropoff_longitude</th>\n",
              "      <td>0.002394</td>\n",
              "      <td>-0.000027</td>\n",
              "      <td>0.780647</td>\n",
              "      <td>0.120090</td>\n",
              "      <td>1.000000</td>\n",
              "      <td>0.149598</td>\n",
              "      <td>0.020664</td>\n",
              "    </tr>\n",
              "    <tr>\n",
              "      <th>dropoff_latitude</th>\n",
              "      <td>0.005215</td>\n",
              "      <td>-0.003944</td>\n",
              "      <td>0.118473</td>\n",
              "      <td>0.479514</td>\n",
              "      <td>0.149598</td>\n",
              "      <td>1.000000</td>\n",
              "      <td>-0.028283</td>\n",
              "    </tr>\n",
              "    <tr>\n",
              "      <th>trip_duration</th>\n",
              "      <td>0.027760</td>\n",
              "      <td>0.013022</td>\n",
              "      <td>0.035447</td>\n",
              "      <td>-0.038175</td>\n",
              "      <td>0.020664</td>\n",
              "      <td>-0.028283</td>\n",
              "      <td>1.000000</td>\n",
              "    </tr>\n",
              "  </tbody>\n",
              "</table>\n",
              "</div>\n",
              "      <button class=\"colab-df-convert\" onclick=\"convertToInteractive('df-976840db-5a2e-4e83-9fb6-f79143d1663a')\"\n",
              "              title=\"Convert this dataframe to an interactive table.\"\n",
              "              style=\"display:none;\">\n",
              "        \n",
              "  <svg xmlns=\"http://www.w3.org/2000/svg\" height=\"24px\"viewBox=\"0 0 24 24\"\n",
              "       width=\"24px\">\n",
              "    <path d=\"M0 0h24v24H0V0z\" fill=\"none\"/>\n",
              "    <path d=\"M18.56 5.44l.94 2.06.94-2.06 2.06-.94-2.06-.94-.94-2.06-.94 2.06-2.06.94zm-11 1L8.5 8.5l.94-2.06 2.06-.94-2.06-.94L8.5 2.5l-.94 2.06-2.06.94zm10 10l.94 2.06.94-2.06 2.06-.94-2.06-.94-.94-2.06-.94 2.06-2.06.94z\"/><path d=\"M17.41 7.96l-1.37-1.37c-.4-.4-.92-.59-1.43-.59-.52 0-1.04.2-1.43.59L10.3 9.45l-7.72 7.72c-.78.78-.78 2.05 0 2.83L4 21.41c.39.39.9.59 1.41.59.51 0 1.02-.2 1.41-.59l7.78-7.78 2.81-2.81c.8-.78.8-2.07 0-2.86zM5.41 20L4 18.59l7.72-7.72 1.47 1.35L5.41 20z\"/>\n",
              "  </svg>\n",
              "      </button>\n",
              "      \n",
              "  <style>\n",
              "    .colab-df-container {\n",
              "      display:flex;\n",
              "      flex-wrap:wrap;\n",
              "      gap: 12px;\n",
              "    }\n",
              "\n",
              "    .colab-df-convert {\n",
              "      background-color: #E8F0FE;\n",
              "      border: none;\n",
              "      border-radius: 50%;\n",
              "      cursor: pointer;\n",
              "      display: none;\n",
              "      fill: #1967D2;\n",
              "      height: 32px;\n",
              "      padding: 0 0 0 0;\n",
              "      width: 32px;\n",
              "    }\n",
              "\n",
              "    .colab-df-convert:hover {\n",
              "      background-color: #E2EBFA;\n",
              "      box-shadow: 0px 1px 2px rgba(60, 64, 67, 0.3), 0px 1px 3px 1px rgba(60, 64, 67, 0.15);\n",
              "      fill: #174EA6;\n",
              "    }\n",
              "\n",
              "    [theme=dark] .colab-df-convert {\n",
              "      background-color: #3B4455;\n",
              "      fill: #D2E3FC;\n",
              "    }\n",
              "\n",
              "    [theme=dark] .colab-df-convert:hover {\n",
              "      background-color: #434B5C;\n",
              "      box-shadow: 0px 1px 3px 1px rgba(0, 0, 0, 0.15);\n",
              "      filter: drop-shadow(0px 1px 2px rgba(0, 0, 0, 0.3));\n",
              "      fill: #FFFFFF;\n",
              "    }\n",
              "  </style>\n",
              "\n",
              "      <script>\n",
              "        const buttonEl =\n",
              "          document.querySelector('#df-976840db-5a2e-4e83-9fb6-f79143d1663a button.colab-df-convert');\n",
              "        buttonEl.style.display =\n",
              "          google.colab.kernel.accessAllowed ? 'block' : 'none';\n",
              "\n",
              "        async function convertToInteractive(key) {\n",
              "          const element = document.querySelector('#df-976840db-5a2e-4e83-9fb6-f79143d1663a');\n",
              "          const dataTable =\n",
              "            await google.colab.kernel.invokeFunction('convertToInteractive',\n",
              "                                                     [key], {});\n",
              "          if (!dataTable) return;\n",
              "\n",
              "          const docLinkHtml = 'Like what you see? Visit the ' +\n",
              "            '<a target=\"_blank\" href=https://colab.research.google.com/notebooks/data_table.ipynb>data table notebook</a>'\n",
              "            + ' to learn more about interactive tables.';\n",
              "          element.innerHTML = '';\n",
              "          dataTable['output_type'] = 'display_data';\n",
              "          await google.colab.output.renderOutput(dataTable, element);\n",
              "          const docLink = document.createElement('div');\n",
              "          docLink.innerHTML = docLinkHtml;\n",
              "          element.appendChild(docLink);\n",
              "        }\n",
              "      </script>\n",
              "    </div>\n",
              "  </div>\n",
              "  "
            ],
            "text/plain": [
              "                   vendor_id  passenger_count  pickup_longitude  \\\n",
              "vendor_id           1.000000         0.286484          0.008197   \n",
              "passenger_count     0.286484         1.000000          0.001163   \n",
              "pickup_longitude    0.008197         0.001163          1.000000   \n",
              "pickup_latitude     0.002799        -0.004676          0.047811   \n",
              "dropoff_longitude   0.002394        -0.000027          0.780647   \n",
              "dropoff_latitude    0.005215        -0.003944          0.118473   \n",
              "trip_duration       0.027760         0.013022          0.035447   \n",
              "\n",
              "                   pickup_latitude  dropoff_longitude  dropoff_latitude  \\\n",
              "vendor_id                 0.002799           0.002394          0.005215   \n",
              "passenger_count          -0.004676          -0.000027         -0.003944   \n",
              "pickup_longitude          0.047811           0.780647          0.118473   \n",
              "pickup_latitude           1.000000           0.120090          0.479514   \n",
              "dropoff_longitude         0.120090           1.000000          0.149598   \n",
              "dropoff_latitude          0.479514           0.149598          1.000000   \n",
              "trip_duration            -0.038175           0.020664         -0.028283   \n",
              "\n",
              "                   trip_duration  \n",
              "vendor_id               0.027760  \n",
              "passenger_count         0.013022  \n",
              "pickup_longitude        0.035447  \n",
              "pickup_latitude        -0.038175  \n",
              "dropoff_longitude       0.020664  \n",
              "dropoff_latitude       -0.028283  \n",
              "trip_duration           1.000000  "
            ]
          },
          "execution_count": 45,
          "metadata": {},
          "output_type": "execute_result"
        }
      ],
      "source": [
        "data[data.columns].corr()"
      ]
    },
    {
      "cell_type": "code",
      "execution_count": 4,
      "id": "z6BmQBNAIKeW",
      "metadata": {
        "colab": {
          "base_uri": "https://localhost:8080/"
        },
        "id": "z6BmQBNAIKeW",
        "outputId": "a47b34db-861f-4d7b-9331-df6ca1f3960c"
      },
      "outputs": [
        {
          "name": "stdout",
          "output_type": "stream",
          "text": [
            "<class 'pandas.core.frame.DataFrame'>\n",
            "Int64Index: 150000 entries, 0 to 149999\n",
            "Data columns (total 5 columns):\n",
            " #   Column             Non-Null Count   Dtype  \n",
            "---  ------             --------------   -----  \n",
            " 0   pickup_longitude   150000 non-null  float64\n",
            " 1   pickup_latitude    149584 non-null  float64\n",
            " 2   dropoff_longitude  150000 non-null  float64\n",
            " 3   dropoff_latitude   150000 non-null  float64\n",
            " 4   trip_duration      150000 non-null  int64  \n",
            "dtypes: float64(4), int64(1)\n",
            "memory usage: 6.9 MB\n"
          ]
        }
      ],
      "source": [
        "data = data.head(150000)\n",
        "data = data.drop(['id', 'vendor_id', 'pickup_datetime', 'dropoff_datetime', 'passenger_count'], axis=1)\n",
        "data.info()"
      ]
    },
    {
      "cell_type": "markdown",
      "id": "1ce69b39",
      "metadata": {
        "id": "1ce69b39"
      },
      "source": [
        "### Заполнение пустых строк"
      ]
    },
    {
      "cell_type": "code",
      "execution_count": 5,
      "id": "9623d6a2",
      "metadata": {
        "colab": {
          "base_uri": "https://localhost:8080/"
        },
        "id": "9623d6a2",
        "outputId": "6ce6b862-fb33-4e3e-e45c-7fc0b21078c5"
      },
      "outputs": [
        {
          "name": "stdout",
          "output_type": "stream",
          "text": [
            "<class 'pandas.core.frame.DataFrame'>\n",
            "Int64Index: 150000 entries, 0 to 149999\n",
            "Data columns (total 5 columns):\n",
            " #   Column             Non-Null Count   Dtype  \n",
            "---  ------             --------------   -----  \n",
            " 0   pickup_longitude   150000 non-null  float64\n",
            " 1   pickup_latitude    150000 non-null  float64\n",
            " 2   dropoff_longitude  150000 non-null  float64\n",
            " 3   dropoff_latitude   150000 non-null  float64\n",
            " 4   trip_duration      150000 non-null  int64  \n",
            "dtypes: float64(4), int64(1)\n",
            "memory usage: 6.9 MB\n"
          ]
        }
      ],
      "source": [
        "for column in list(data):\n",
        "  if data[column].dtype == 'float64':\n",
        "    valuesNotNAN = data[column].dropna()\n",
        "    data[column] = data[column].fillna(round(sum(valuesNotNAN)/len(valuesNotNAN)))\n",
        "\n",
        "data.info()"
      ]
    },
    {
      "cell_type": "markdown",
      "id": "8FHj8-p9LAQT",
      "metadata": {
        "id": "8FHj8-p9LAQT"
      },
      "source": [
        "### Сохранение обработанного датасета"
      ]
    },
    {
      "cell_type": "code",
      "execution_count": 6,
      "id": "hjVO2eT-K-uc",
      "metadata": {
        "id": "hjVO2eT-K-uc"
      },
      "outputs": [],
      "source": [
        "data.to_csv(\"../data/regression/trip_duration_update.csv\")"
      ]
    },
    {
      "cell_type": "markdown",
      "id": "2b1f0835",
      "metadata": {
        "id": "2b1f0835"
      },
      "source": [
        " ### Выделение целевого признака и предикторов"
      ]
    },
    {
      "cell_type": "code",
      "execution_count": null,
      "id": "7a676762",
      "metadata": {
        "colab": {
          "base_uri": "https://localhost:8080/"
        },
        "id": "7a676762",
        "outputId": "624e5dc0-2ef6-4830-a96d-a1af22699d93"
      },
      "outputs": [
        {
          "name": "stdout",
          "output_type": "stream",
          "text": [
            "<class 'pandas.core.frame.DataFrame'>\n",
            "Int64Index: 150000 entries, 0 to 149999\n",
            "Data columns (total 5 columns):\n",
            " #   Column             Non-Null Count   Dtype  \n",
            "---  ------             --------------   -----  \n",
            " 0   pickup_longitude   150000 non-null  float64\n",
            " 1   pickup_latitude    150000 non-null  float64\n",
            " 2   dropoff_longitude  150000 non-null  float64\n",
            " 3   dropoff_latitude   150000 non-null  float64\n",
            " 4   trip_duration      150000 non-null  int64  \n",
            "dtypes: float64(4), int64(1)\n",
            "memory usage: 6.9 MB\n"
          ]
        }
      ],
      "source": [
        "df = pd.read_csv(\"/content/drive/MyDrive/ML/RegressionFirstLab/trip_duration_update.csv\", index_col=0)\n",
        "\n",
        "y = df[\"trip_duration\"]\n",
        "X = df.drop([\"trip_duration\"], axis=1)\n",
        "df.info()"
      ]
    },
    {
      "cell_type": "code",
      "execution_count": null,
      "id": "18ff8a87",
      "metadata": {
        "colab": {
          "base_uri": "https://localhost:8080/"
        },
        "id": "18ff8a87",
        "outputId": "f915b094-e2e8-4234-b5ff-c7329f71f859"
      },
      "outputs": [
        {
          "data": {
            "text/plain": [
              "0          400\n",
              "1         1100\n",
              "2         1635\n",
              "3         1141\n",
              "4          848\n",
              "          ... \n",
              "149995     690\n",
              "149996     753\n",
              "149997     804\n",
              "149998     599\n",
              "149999     429\n",
              "Name: trip_duration, Length: 150000, dtype: int64"
            ]
          },
          "execution_count": 50,
          "metadata": {},
          "output_type": "execute_result"
        }
      ],
      "source": [
        "y"
      ]
    },
    {
      "cell_type": "code",
      "execution_count": null,
      "id": "ffb13bd9",
      "metadata": {
        "colab": {
          "base_uri": "https://localhost:8080/",
          "height": 424
        },
        "id": "ffb13bd9",
        "outputId": "aace5dca-6b0b-4fdb-d723-24f01f5a47e9"
      },
      "outputs": [
        {
          "data": {
            "text/html": [
              "\n",
              "  <div id=\"df-44b89b03-60d4-4f29-94d5-83e0c314daa3\">\n",
              "    <div class=\"colab-df-container\">\n",
              "      <div>\n",
              "<style scoped>\n",
              "    .dataframe tbody tr th:only-of-type {\n",
              "        vertical-align: middle;\n",
              "    }\n",
              "\n",
              "    .dataframe tbody tr th {\n",
              "        vertical-align: top;\n",
              "    }\n",
              "\n",
              "    .dataframe thead th {\n",
              "        text-align: right;\n",
              "    }\n",
              "</style>\n",
              "<table border=\"1\" class=\"dataframe\">\n",
              "  <thead>\n",
              "    <tr style=\"text-align: right;\">\n",
              "      <th></th>\n",
              "      <th>pickup_longitude</th>\n",
              "      <th>pickup_latitude</th>\n",
              "      <th>dropoff_longitude</th>\n",
              "      <th>dropoff_latitude</th>\n",
              "    </tr>\n",
              "  </thead>\n",
              "  <tbody>\n",
              "    <tr>\n",
              "      <th>0</th>\n",
              "      <td>-73.953918</td>\n",
              "      <td>40.778873</td>\n",
              "      <td>-73.963875</td>\n",
              "      <td>40.771164</td>\n",
              "    </tr>\n",
              "    <tr>\n",
              "      <th>1</th>\n",
              "      <td>-73.988312</td>\n",
              "      <td>40.731743</td>\n",
              "      <td>-73.994751</td>\n",
              "      <td>40.694931</td>\n",
              "    </tr>\n",
              "    <tr>\n",
              "      <th>2</th>\n",
              "      <td>-73.997314</td>\n",
              "      <td>40.721458</td>\n",
              "      <td>-73.948029</td>\n",
              "      <td>40.774918</td>\n",
              "    </tr>\n",
              "    <tr>\n",
              "      <th>3</th>\n",
              "      <td>-73.961670</td>\n",
              "      <td>40.759720</td>\n",
              "      <td>-73.956779</td>\n",
              "      <td>40.780628</td>\n",
              "    </tr>\n",
              "    <tr>\n",
              "      <th>4</th>\n",
              "      <td>-74.017120</td>\n",
              "      <td>40.708469</td>\n",
              "      <td>-73.988182</td>\n",
              "      <td>40.740631</td>\n",
              "    </tr>\n",
              "    <tr>\n",
              "      <th>...</th>\n",
              "      <td>...</td>\n",
              "      <td>...</td>\n",
              "      <td>...</td>\n",
              "      <td>...</td>\n",
              "    </tr>\n",
              "    <tr>\n",
              "      <th>149995</th>\n",
              "      <td>-73.980270</td>\n",
              "      <td>40.775326</td>\n",
              "      <td>-73.962090</td>\n",
              "      <td>40.763794</td>\n",
              "    </tr>\n",
              "    <tr>\n",
              "      <th>149996</th>\n",
              "      <td>-73.981804</td>\n",
              "      <td>40.769016</td>\n",
              "      <td>-73.979767</td>\n",
              "      <td>40.780998</td>\n",
              "    </tr>\n",
              "    <tr>\n",
              "      <th>149997</th>\n",
              "      <td>-73.989838</td>\n",
              "      <td>40.714241</td>\n",
              "      <td>-73.988083</td>\n",
              "      <td>40.745743</td>\n",
              "    </tr>\n",
              "    <tr>\n",
              "      <th>149998</th>\n",
              "      <td>-73.989395</td>\n",
              "      <td>40.726200</td>\n",
              "      <td>-74.001060</td>\n",
              "      <td>40.721779</td>\n",
              "    </tr>\n",
              "    <tr>\n",
              "      <th>149999</th>\n",
              "      <td>-73.961037</td>\n",
              "      <td>40.777695</td>\n",
              "      <td>-73.967461</td>\n",
              "      <td>40.801250</td>\n",
              "    </tr>\n",
              "  </tbody>\n",
              "</table>\n",
              "<p>150000 rows × 4 columns</p>\n",
              "</div>\n",
              "      <button class=\"colab-df-convert\" onclick=\"convertToInteractive('df-44b89b03-60d4-4f29-94d5-83e0c314daa3')\"\n",
              "              title=\"Convert this dataframe to an interactive table.\"\n",
              "              style=\"display:none;\">\n",
              "        \n",
              "  <svg xmlns=\"http://www.w3.org/2000/svg\" height=\"24px\"viewBox=\"0 0 24 24\"\n",
              "       width=\"24px\">\n",
              "    <path d=\"M0 0h24v24H0V0z\" fill=\"none\"/>\n",
              "    <path d=\"M18.56 5.44l.94 2.06.94-2.06 2.06-.94-2.06-.94-.94-2.06-.94 2.06-2.06.94zm-11 1L8.5 8.5l.94-2.06 2.06-.94-2.06-.94L8.5 2.5l-.94 2.06-2.06.94zm10 10l.94 2.06.94-2.06 2.06-.94-2.06-.94-.94-2.06-.94 2.06-2.06.94z\"/><path d=\"M17.41 7.96l-1.37-1.37c-.4-.4-.92-.59-1.43-.59-.52 0-1.04.2-1.43.59L10.3 9.45l-7.72 7.72c-.78.78-.78 2.05 0 2.83L4 21.41c.39.39.9.59 1.41.59.51 0 1.02-.2 1.41-.59l7.78-7.78 2.81-2.81c.8-.78.8-2.07 0-2.86zM5.41 20L4 18.59l7.72-7.72 1.47 1.35L5.41 20z\"/>\n",
              "  </svg>\n",
              "      </button>\n",
              "      \n",
              "  <style>\n",
              "    .colab-df-container {\n",
              "      display:flex;\n",
              "      flex-wrap:wrap;\n",
              "      gap: 12px;\n",
              "    }\n",
              "\n",
              "    .colab-df-convert {\n",
              "      background-color: #E8F0FE;\n",
              "      border: none;\n",
              "      border-radius: 50%;\n",
              "      cursor: pointer;\n",
              "      display: none;\n",
              "      fill: #1967D2;\n",
              "      height: 32px;\n",
              "      padding: 0 0 0 0;\n",
              "      width: 32px;\n",
              "    }\n",
              "\n",
              "    .colab-df-convert:hover {\n",
              "      background-color: #E2EBFA;\n",
              "      box-shadow: 0px 1px 2px rgba(60, 64, 67, 0.3), 0px 1px 3px 1px rgba(60, 64, 67, 0.15);\n",
              "      fill: #174EA6;\n",
              "    }\n",
              "\n",
              "    [theme=dark] .colab-df-convert {\n",
              "      background-color: #3B4455;\n",
              "      fill: #D2E3FC;\n",
              "    }\n",
              "\n",
              "    [theme=dark] .colab-df-convert:hover {\n",
              "      background-color: #434B5C;\n",
              "      box-shadow: 0px 1px 3px 1px rgba(0, 0, 0, 0.15);\n",
              "      filter: drop-shadow(0px 1px 2px rgba(0, 0, 0, 0.3));\n",
              "      fill: #FFFFFF;\n",
              "    }\n",
              "  </style>\n",
              "\n",
              "      <script>\n",
              "        const buttonEl =\n",
              "          document.querySelector('#df-44b89b03-60d4-4f29-94d5-83e0c314daa3 button.colab-df-convert');\n",
              "        buttonEl.style.display =\n",
              "          google.colab.kernel.accessAllowed ? 'block' : 'none';\n",
              "\n",
              "        async function convertToInteractive(key) {\n",
              "          const element = document.querySelector('#df-44b89b03-60d4-4f29-94d5-83e0c314daa3');\n",
              "          const dataTable =\n",
              "            await google.colab.kernel.invokeFunction('convertToInteractive',\n",
              "                                                     [key], {});\n",
              "          if (!dataTable) return;\n",
              "\n",
              "          const docLinkHtml = 'Like what you see? Visit the ' +\n",
              "            '<a target=\"_blank\" href=https://colab.research.google.com/notebooks/data_table.ipynb>data table notebook</a>'\n",
              "            + ' to learn more about interactive tables.';\n",
              "          element.innerHTML = '';\n",
              "          dataTable['output_type'] = 'display_data';\n",
              "          await google.colab.output.renderOutput(dataTable, element);\n",
              "          const docLink = document.createElement('div');\n",
              "          docLink.innerHTML = docLinkHtml;\n",
              "          element.appendChild(docLink);\n",
              "        }\n",
              "      </script>\n",
              "    </div>\n",
              "  </div>\n",
              "  "
            ],
            "text/plain": [
              "        pickup_longitude  pickup_latitude  dropoff_longitude  dropoff_latitude\n",
              "0             -73.953918        40.778873         -73.963875         40.771164\n",
              "1             -73.988312        40.731743         -73.994751         40.694931\n",
              "2             -73.997314        40.721458         -73.948029         40.774918\n",
              "3             -73.961670        40.759720         -73.956779         40.780628\n",
              "4             -74.017120        40.708469         -73.988182         40.740631\n",
              "...                  ...              ...                ...               ...\n",
              "149995        -73.980270        40.775326         -73.962090         40.763794\n",
              "149996        -73.981804        40.769016         -73.979767         40.780998\n",
              "149997        -73.989838        40.714241         -73.988083         40.745743\n",
              "149998        -73.989395        40.726200         -74.001060         40.721779\n",
              "149999        -73.961037        40.777695         -73.967461         40.801250\n",
              "\n",
              "[150000 rows x 4 columns]"
            ]
          },
          "execution_count": 51,
          "metadata": {},
          "output_type": "execute_result"
        }
      ],
      "source": [
        "X"
      ]
    },
    {
      "cell_type": "markdown",
      "id": "98a526b9",
      "metadata": {
        "id": "98a526b9"
      },
      "source": [
        "### Разделение данных на обучающую и тестовую выборки"
      ]
    },
    {
      "cell_type": "code",
      "execution_count": null,
      "id": "1f98db84",
      "metadata": {
        "id": "1f98db84"
      },
      "outputs": [],
      "source": [
        "from sklearn.model_selection import train_test_split\n",
        "X_train, X_test, y_train, y_test = train_test_split(X, y, test_size=0.2)"
      ]
    },
    {
      "cell_type": "code",
      "execution_count": null,
      "id": "b95d91a9",
      "metadata": {
        "colab": {
          "base_uri": "https://localhost:8080/"
        },
        "id": "b95d91a9",
        "outputId": "6b2f01f5-bd34-45a6-ac6c-f9ad7f73a3e6"
      },
      "outputs": [
        {
          "data": {
            "text/plain": [
              "((120000, 4), (120000,), (30000, 4), (30000,))"
            ]
          },
          "execution_count": 53,
          "metadata": {},
          "output_type": "execute_result"
        }
      ],
      "source": [
        "X_train.shape, y_train.shape, X_test.shape, y_test.shape"
      ]
    },
    {
      "cell_type": "markdown",
      "id": "d42fee19",
      "metadata": {
        "id": "d42fee19"
      },
      "source": [
        "## **Линейная регрессия**"
      ]
    },
    {
      "cell_type": "code",
      "execution_count": null,
      "id": "d606ab41",
      "metadata": {
        "colab": {
          "base_uri": "https://localhost:8080/"
        },
        "id": "d606ab41",
        "outputId": "d45f8a02-db96-425a-d276-67bf1e964ed3"
      },
      "outputs": [
        {
          "data": {
            "text/plain": [
              "[('pickup_longitude', 7028.11021859996),\n",
              " ('pickup_latitude', -4655.401722867282),\n",
              " ('dropoff_longitude', 3048.8097650226687),\n",
              " ('dropoff_latitude', -2608.0364785766897)]"
            ]
          },
          "execution_count": 54,
          "metadata": {},
          "output_type": "execute_result"
        }
      ],
      "source": [
        "from sklearn.linear_model import LinearRegression, Lasso, Ridge\n",
        "\n",
        "lr = LinearRegression().fit(X_train, y_train)\n",
        "lr.predict(X_test)\n",
        "\n",
        "list(zip(X.columns, lr.coef_))"
      ]
    },
    {
      "cell_type": "markdown",
      "id": "f6bd4b5a",
      "metadata": {
        "id": "f6bd4b5a"
      },
      "source": [
        "# Метрики качества"
      ]
    },
    {
      "cell_type": "code",
      "execution_count": null,
      "id": "d344a446",
      "metadata": {
        "colab": {
          "base_uri": "https://localhost:8080/"
        },
        "id": "d344a446",
        "outputId": "fe9723a6-fe29-42c9-cf7c-fb8a24eb3363"
      },
      "outputs": [
        {
          "name": "stdout",
          "output_type": "stream",
          "text": [
            "MAE: 569.1468113971456\n",
            "MSE: 9589939.797294984\n",
            "RMSE: 3096.7627931914617\n",
            "MAPE: 1.2478428759892455\n",
            "R^2: 0.00894124411387609\n"
          ]
        }
      ],
      "source": [
        "from sklearn.metrics import mean_squared_error, mean_absolute_error, mean_absolute_percentage_error\n",
        "from math import sqrt\n",
        "\n",
        "y_pred = lr.predict(X_test)\n",
        "\n",
        "print(f'MAE: {mean_absolute_error(y_test, y_pred)}')\n",
        "print(f'MSE: {mean_squared_error(y_test, y_pred)}')\n",
        "print(f'RMSE: {sqrt(mean_squared_error(y_test, y_pred))}')\n",
        "print(f'MAPE: {sqrt(mean_absolute_percentage_error(y_test, y_pred))}')\n",
        "print(f'R^2: {lr.score(X_test, y_test)}')"
      ]
    },
    {
      "cell_type": "code",
      "execution_count": null,
      "id": "5fd24190",
      "metadata": {
        "colab": {
          "base_uri": "https://localhost:8080/"
        },
        "id": "5fd24190",
        "outputId": "309307c2-57b2-4771-ea4f-33fc20294273"
      },
      "outputs": [
        {
          "data": {
            "text/plain": [
              "array([ 7028.1102186 , -4655.40172287,  3048.80976502, -2608.03647858])"
            ]
          },
          "execution_count": 56,
          "metadata": {},
          "output_type": "execute_result"
        }
      ],
      "source": [
        "len(lr.coef_)\n",
        "lr.coef_"
      ]
    },
    {
      "cell_type": "markdown",
      "id": "5fc6be7f",
      "metadata": {
        "id": "5fc6be7f"
      },
      "source": [
        "# Регуляризация в линейной регрессии (L1 Lasso)"
      ]
    },
    {
      "cell_type": "code",
      "execution_count": null,
      "id": "b799ca34",
      "metadata": {
        "colab": {
          "base_uri": "https://localhost:8080/"
        },
        "id": "b799ca34",
        "outputId": "3b46ea3b-ebb5-402f-abfc-b1bf4fc4488f"
      },
      "outputs": [
        {
          "name": "stdout",
          "output_type": "stream",
          "text": [
            "MAE: 570.041429299614\n",
            "MSE: 9588692.898358248\n",
            "RMSE: 3096.561463681651\n",
            "MAPE: 1.2462197880950712\n",
            "R^2: 0.009070103119779849\n"
          ]
        },
        {
          "data": {
            "text/plain": [
              "array([ 6807.9443844 , -4329.59407074,  2672.34769067, -2188.05173722])"
            ]
          },
          "execution_count": 59,
          "metadata": {},
          "output_type": "execute_result"
        }
      ],
      "source": [
        "# L1\n",
        "lasso = Lasso(alpha=0.5).fit(X_train, y_train)\n",
        "y_pred = lasso.predict(X_test)\n",
        "print(f'MAE: {mean_absolute_error(y_test, y_pred)}')\n",
        "print(f'MSE: {mean_squared_error(y_test, y_pred)}')\n",
        "print(f'RMSE: {sqrt(mean_squared_error(y_test, y_pred))}')\n",
        "print(f'MAPE: {sqrt(mean_absolute_percentage_error(y_test, y_pred))}')\n",
        "print(f'R^2: {lasso.score(X_test, y_test)}')\n",
        "lasso.coef_"
      ]
    },
    {
      "cell_type": "markdown",
      "id": "37856e0c",
      "metadata": {
        "id": "37856e0c"
      },
      "source": [
        "# Регуляризация в линейной регрессии (L2 Ridge)"
      ]
    },
    {
      "cell_type": "code",
      "execution_count": null,
      "id": "2c1e8ea0",
      "metadata": {
        "colab": {
          "base_uri": "https://localhost:8080/"
        },
        "id": "2c1e8ea0",
        "outputId": "f7f9a0b9-24e8-4d45-944a-104f45ebb269"
      },
      "outputs": [
        {
          "name": "stdout",
          "output_type": "stream",
          "text": [
            "MAE: 569.1305772608195\n",
            "MSE: 9589679.093938375\n",
            "RMSE: 3096.7207000209714\n",
            "MAPE: 1.2476907270602955\n",
            "R^2: 0.008968186133296085\n"
          ]
        },
        {
          "data": {
            "text/plain": [
              "array([ 6997.86240215, -4629.02396481,  3037.92387984, -2596.30371295])"
            ]
          },
          "execution_count": 63,
          "metadata": {},
          "output_type": "execute_result"
        }
      ],
      "source": [
        "# L2\n",
        "from sklearn.model_selection import GridSearchCV, RandomizedSearchCV\n",
        "import numpy as np\n",
        "\n",
        "parameters = {'alpha': np.arange(0, 1, 0.1)}\n",
        "ridge_optimal = GridSearchCV(Ridge(), parameters).fit(X_train, y_train)\n",
        "ridge_optimal.best_params_\n",
        "\n",
        "ridge = Ridge(alpha=ridge_optimal.best_params_[\"alpha\"]).fit(X_train, y_train)\n",
        "y_pred = ridge.predict(X_test)\n",
        "print(f'MAE: {mean_absolute_error(y_test, y_pred)}')\n",
        "print(f'MSE: {mean_squared_error(y_test, y_pred)}')\n",
        "print(f'RMSE: {sqrt(mean_squared_error(y_test, y_pred))}')\n",
        "print(f'MAPE: {sqrt(mean_absolute_percentage_error(y_test, y_pred))}')\n",
        "print(f'R^2: {ridge.score(X_test, y_test)}')\n",
        "\n",
        "ridge.coef_"
      ]
    },
    {
      "cell_type": "markdown",
      "id": "25079e0e",
      "metadata": {
        "id": "25079e0e"
      },
      "source": [
        "# **Полиномиальная регрессия**"
      ]
    },
    {
      "cell_type": "code",
      "execution_count": null,
      "id": "3a808d86",
      "metadata": {
        "id": "3a808d86"
      },
      "outputs": [],
      "source": [
        "from sklearn.preprocessing import PolynomialFeatures\n",
        "pf = PolynomialFeatures(2)  \n",
        "\n",
        "X_train_p = pf.fit_transform(X_train)\n",
        "X_test_p = pf.fit_transform(X_test)"
      ]
    },
    {
      "cell_type": "code",
      "execution_count": null,
      "id": "f65245cc",
      "metadata": {
        "colab": {
          "base_uri": "https://localhost:8080/"
        },
        "id": "f65245cc",
        "outputId": "02ec85bb-5387-4c99-ad28-2f263ca5a09c"
      },
      "outputs": [
        {
          "data": {
            "text/plain": [
              "array([       0.        ,  2606366.25039678,  3233409.71571254,\n",
              "       -4392282.38343185,   464795.94199358,    88903.65752891,\n",
              "          26639.81712725,  -108311.34129785,    35545.02373849,\n",
              "          17345.70909112,   -22244.9233447 ,  -106103.93200454,\n",
              "          12630.91350037,   -20653.75235162,    60844.76575216])"
            ]
          },
          "execution_count": 91,
          "metadata": {},
          "output_type": "execute_result"
        }
      ],
      "source": [
        "lr2 = LinearRegression().fit(X_train_p, y_train)\n",
        "lr2.coef_"
      ]
    },
    {
      "cell_type": "markdown",
      "id": "aec4f067",
      "metadata": {
        "id": "aec4f067"
      },
      "source": [
        "# Метрики качества"
      ]
    },
    {
      "cell_type": "code",
      "execution_count": null,
      "id": "a5923a03",
      "metadata": {
        "colab": {
          "base_uri": "https://localhost:8080/"
        },
        "id": "a5923a03",
        "outputId": "650e89f5-18d8-478f-ee94-28a4054ea248"
      },
      "outputs": [
        {
          "name": "stdout",
          "output_type": "stream",
          "text": [
            "MAE: 506.44163994506397\n",
            "MSE: 9461348.424083903\n",
            "RMSE: 3075.9304972778405\n",
            "MAPE: 1.1005761130232636\n",
            "R^2: 0.022230337585370852\n"
          ]
        }
      ],
      "source": [
        "from sklearn.metrics import mean_squared_error, mean_absolute_error, mean_absolute_percentage_error, r2_score\n",
        "from math import sqrt\n",
        "\n",
        "y_pred_pf = lr2.predict(X_test_p)\n",
        "print(f'MAE: {mean_absolute_error(y_test, y_pred_pf)}')\n",
        "print(f'MSE: {mean_squared_error(y_test, y_pred_pf)}')\n",
        "print(f'RMSE: {sqrt(mean_squared_error(y_test, y_pred_pf))}')\n",
        "print(f'MAPE: {sqrt(mean_absolute_percentage_error(y_test, y_pred_pf))}')\n",
        "print(f'R^2: {r2_score(y_test, y_pred_pf)}')"
      ]
    },
    {
      "cell_type": "markdown",
      "id": "_g-j4p__cLmt",
      "metadata": {
        "id": "_g-j4p__cLmt"
      },
      "source": [
        "## Регуляризации"
      ]
    },
    {
      "cell_type": "code",
      "execution_count": null,
      "id": "7bbc4b96",
      "metadata": {
        "colab": {
          "base_uri": "https://localhost:8080/"
        },
        "id": "7bbc4b96",
        "outputId": "6c45e86e-37de-481d-9d8e-5ee431c5cc67"
      },
      "outputs": [
        {
          "name": "stdout",
          "output_type": "stream",
          "text": [
            "MAE: 537.9560988982308\n",
            "MSE: 9506672.105443485\n",
            "RMSE: 3083.2891699358147\n",
            "MAPE: 1.1862402969907908\n",
            "R^2: 0.017546425881037053\n"
          ]
        }
      ],
      "source": [
        "ridge_pf = Ridge(alpha=0.7).fit(X_train_p, y_train)\n",
        "y_pred_pf = ridge_pf.predict(X_test_p)\n",
        "print(f'MAE: {mean_absolute_error(y_test, y_pred_pf)}')\n",
        "print(f'MSE: {mean_squared_error(y_test, y_pred_pf)}')\n",
        "print(f'RMSE: {sqrt(mean_squared_error(y_test, y_pred_pf))}')\n",
        "print(f'MAPE: {sqrt(mean_absolute_percentage_error(y_test, y_pred_pf))}')\n",
        "print(f'R^2: {r2_score(y_test, y_pred_pf)}')"
      ]
    },
    {
      "cell_type": "code",
      "execution_count": null,
      "id": "6b0826ce",
      "metadata": {
        "colab": {
          "base_uri": "https://localhost:8080/"
        },
        "id": "6b0826ce",
        "outputId": "69ff083f-3831-4283-9e86-5ef82860e70f"
      },
      "outputs": [
        {
          "name": "stdout",
          "output_type": "stream",
          "text": [
            "MAE: 569.1250348863509\n",
            "MSE: 9589828.344591439\n",
            "RMSE: 3096.7447981051714\n",
            "MAPE: 1.2478192967341597\n",
            "R^2: 0.008952762035786876\n"
          ]
        },
        {
          "name": "stderr",
          "output_type": "stream",
          "text": [
            "/usr/local/lib/python3.9/dist-packages/sklearn/linear_model/_coordinate_descent.py:631: ConvergenceWarning: Objective did not converge. You might want to increase the number of iterations, check the scale of the features or consider increasing regularisation. Duality gap: 1.924e+10, tolerance: 4.890e+08\n",
            "  model = cd_fast.enet_coordinate_descent(\n"
          ]
        }
      ],
      "source": [
        "lasso_pf = Lasso(alpha=0.9).fit(X_train_p, y_train)\n",
        "y_pred_pf = lasso_pf.predict(X_test_p)\n",
        "print(f'MAE: {mean_absolute_error(y_test, y_pred_pf)}')\n",
        "print(f'MSE: {mean_squared_error(y_test, y_pred_pf)}')\n",
        "print(f'RMSE: {sqrt(mean_squared_error(y_test, y_pred_pf))}')\n",
        "print(f'MAPE: {sqrt(mean_absolute_percentage_error(y_test, y_pred_pf))}')\n",
        "print(f'R^2: {r2_score(y_test, y_pred_pf)}')"
      ]
    },
    {
      "cell_type": "markdown",
      "id": "LJ8VrB6Xez2N",
      "metadata": {
        "id": "LJ8VrB6Xez2N"
      },
      "source": [
        "# **Собственная реализация**"
      ]
    },
    {
      "cell_type": "markdown",
      "id": "yVlBZZhZfSTy",
      "metadata": {
        "id": "yVlBZZhZfSTy"
      },
      "source": [
        "### **Класс линейной регрессии**"
      ]
    },
    {
      "cell_type": "code",
      "execution_count": null,
      "id": "7bSeMw8TfR5a",
      "metadata": {
        "id": "7bSeMw8TfR5a"
      },
      "outputs": [],
      "source": [
        "class MyLR:\n",
        "    def __init__( self, learning_rate = 0.0001, iterations = 1000) :\n",
        "        self.learning_rate = learning_rate        \n",
        "        self.iterations = iterations        \n",
        "\n",
        "    def transform_(self, x):\n",
        "        return np.concatenate((np.ones((len(x), 1)), x), axis = 1)\n",
        "\n",
        "    def loss_func(self, x, y, w):\n",
        "        return sum((y - np.dot(x, w)) ** 2)/x.shape[0]\n",
        "\n",
        "    def fit(self, x, y):\n",
        "        dist = np.inf\n",
        "        eps = 1e-20\n",
        "        X = self.transform_(x)\n",
        "\n",
        "        w = np.zeros(X.shape[1])\n",
        "        iter = 0\n",
        "\n",
        "        while iter <= self.iterations:\n",
        "            loss = self.loss_func(X, y, w)\n",
        "            w = w - self.learning_rate * 2 * np.dot(X.T, np.dot(X, w) - y) /X.shape[0]\n",
        "            dist = np.abs(loss - self.loss_func(X, y, w))\n",
        "            iter += 1\n",
        "            \n",
        "            if(dist <= eps):\n",
        "                break\n",
        "        print(iter)\n",
        "\n",
        "        self.w = w\n",
        "        return self\n",
        "        \n",
        "\n",
        "    def predict(self, x):\n",
        "        return np.dot(self.transform_(x), self.w)"
      ]
    },
    {
      "cell_type": "markdown",
      "id": "-2Nrfb3BgFS5",
      "metadata": {
        "id": "-2Nrfb3BgFS5"
      },
      "source": [
        "### **Регуляризация L2**"
      ]
    },
    {
      "cell_type": "code",
      "execution_count": null,
      "id": "Du2YYm2MgFCy",
      "metadata": {
        "id": "Du2YYm2MgFCy"
      },
      "outputs": [],
      "source": [
        "class MyRidge:\n",
        "    def __init__( self, learning_rate, iterations, alpha ) :\n",
        "        self.learning_rate = learning_rate        \n",
        "        self.iterations = iterations        \n",
        "        self.alpha = alpha\n",
        "\n",
        "    def transform_(self, x):\n",
        "        return np.concatenate((np.ones((len(x), 1)), x), axis = 1)\n",
        "\n",
        "    def loss_func(self, x, y, w):\n",
        "        return sum(y - np.dot(x, w)) ** 2  + self.alpha * (np.matmul(w, w))/X.shape[0]\n",
        "\n",
        "    def fit(self, x, y):\n",
        "        dist = np.inf\n",
        "        eps = 1e-20\n",
        "        X = self.transform_(x)\n",
        "\n",
        "        w = np.zeros(X.shape[1])\n",
        "        iter = 0\n",
        "\n",
        "        while iter <= self.iterations:\n",
        "            loss = self.loss_func(X, y, w)\n",
        "            w = w - ((self.learning_rate * 2 * np.dot(X.T, np.dot(X, w) - y)) + ( 2 * self.alpha * w ))/X.shape[0]\n",
        "            dist = np.abs(loss - self.loss_func(X, y, w))\n",
        "            iter += 1\n",
        "            \n",
        "            if(dist <= eps):\n",
        "                break\n",
        "        print(iter)\n",
        "        self.w = w\n",
        "        return self\n",
        "        \n",
        "\n",
        "    def predict(self, x):\n",
        "        return np.dot(self.transform_(x), self.w)"
      ]
    },
    {
      "cell_type": "markdown",
      "id": "JBK8r2Z4fOvd",
      "metadata": {
        "id": "JBK8r2Z4fOvd"
      },
      "source": [
        "### **Метрики**"
      ]
    },
    {
      "cell_type": "code",
      "execution_count": null,
      "id": "BLd3XgEtezcH",
      "metadata": {
        "id": "BLd3XgEtezcH"
      },
      "outputs": [],
      "source": [
        "class Metrics:\n",
        "    def  mean_absolute_error(y_test, y_pred):\n",
        "        y_true, predictions = np.array(y_test), np.array(y_pred)\n",
        "        return float(np.mean(np.abs(y_true-predictions)))\n",
        "    def mean_squared_error(y_test, y_pred):\n",
        "        y_true, predictions = np.array(y_test), np.array(y_pred)\n",
        "        return float(np.mean((y_true-predictions)**2))\n",
        "    def root_mean_squared_error(y_test, y_pred):\n",
        "        return float(np.sqrt(Metrics.mean_squared_error(y_test, y_pred)))\n",
        "    def mean_absolute_percentage_error(y_test, y_pred):\n",
        "        y_true, predictions = np.array(y_test), np.array(y_pred)\n",
        "        return float(np.mean(np.abs((y_true-predictions)/y_true)))\n",
        "    def r_2_score( y_test, y_pred):\n",
        "        y_true, predictions = np.array(y_test), np.array(y_pred)\n",
        "        mean_value = np.mean(y_test)\n",
        "        return float(1 - np.sum((y_true - predictions)**2)/ np.sum((y_true - mean_value)**2))"
      ]
    },
    {
      "cell_type": "code",
      "execution_count": 1,
      "id": "-vEWYhZToOhH",
      "metadata": {
        "colab": {
          "base_uri": "https://localhost:8080/"
        },
        "id": "-vEWYhZToOhH",
        "outputId": "e5db5f57-a3d6-4860-fd1e-d6432df526b2"
      },
      "outputs": [
        {
          "ename": "NameError",
          "evalue": "name 'pd' is not defined",
          "output_type": "error",
          "traceback": [
            "\u001b[1;31m---------------------------------------------------------------------------\u001b[0m",
            "\u001b[1;31mNameError\u001b[0m                                 Traceback (most recent call last)",
            "Cell \u001b[1;32mIn[1], line 1\u001b[0m\n\u001b[1;32m----> 1\u001b[0m df \u001b[39m=\u001b[39m pd\u001b[39m.\u001b[39mread_csv(\u001b[39m\"\u001b[39m\u001b[39m../data/regression/trip_duration_task.csv\u001b[39m\u001b[39m\"\u001b[39m, index_col\u001b[39m=\u001b[39m\u001b[39m0\u001b[39m)\n\u001b[0;32m      2\u001b[0m df \u001b[39m=\u001b[39m df\u001b[39m.\u001b[39mhead(\u001b[39m150000\u001b[39m)\n\u001b[0;32m      3\u001b[0m df\u001b[39m.\u001b[39minfo()\n",
            "\u001b[1;31mNameError\u001b[0m: name 'pd' is not defined"
          ]
        }
      ],
      "source": [
        "df = pd.read_csv(\"../data/regression/trip_duration_task.csv\", index_col=0)\n",
        "df = df.head(150000)\n",
        "df.info()"
      ]
    },
    {
      "cell_type": "code",
      "execution_count": null,
      "id": "XSnSVmG7pBPY",
      "metadata": {
        "id": "XSnSVmG7pBPY"
      },
      "outputs": [],
      "source": [
        "y = df['trip_duration']\n",
        "X = df.drop(['trip_duration'], axis=1)"
      ]
    },
    {
      "cell_type": "code",
      "execution_count": null,
      "id": "I0Fe3SmYpDZ-",
      "metadata": {
        "colab": {
          "base_uri": "https://localhost:8080/"
        },
        "id": "I0Fe3SmYpDZ-",
        "outputId": "4fac0a7b-6485-4f10-b7db-61db5615f3ad"
      },
      "outputs": [
        {
          "data": {
            "text/plain": [
              "0          400\n",
              "1         1100\n",
              "2         1635\n",
              "3         1141\n",
              "4          848\n",
              "          ... \n",
              "149995     690\n",
              "149996     753\n",
              "149997     804\n",
              "149998     599\n",
              "149999     429\n",
              "Name: trip_duration, Length: 150000, dtype: int64"
            ]
          },
          "execution_count": 32,
          "metadata": {},
          "output_type": "execute_result"
        }
      ],
      "source": [
        "y"
      ]
    },
    {
      "cell_type": "code",
      "execution_count": null,
      "id": "CF_pnZZ0pFMb",
      "metadata": {
        "colab": {
          "base_uri": "https://localhost:8080/",
          "height": 424
        },
        "id": "CF_pnZZ0pFMb",
        "outputId": "120449fa-0d13-4085-83fc-4ef8843b530a"
      },
      "outputs": [
        {
          "data": {
            "text/html": [
              "\n",
              "  <div id=\"df-35793dd8-cc57-4391-b20e-6086e71f335b\">\n",
              "    <div class=\"colab-df-container\">\n",
              "      <div>\n",
              "<style scoped>\n",
              "    .dataframe tbody tr th:only-of-type {\n",
              "        vertical-align: middle;\n",
              "    }\n",
              "\n",
              "    .dataframe tbody tr th {\n",
              "        vertical-align: top;\n",
              "    }\n",
              "\n",
              "    .dataframe thead th {\n",
              "        text-align: right;\n",
              "    }\n",
              "</style>\n",
              "<table border=\"1\" class=\"dataframe\">\n",
              "  <thead>\n",
              "    <tr style=\"text-align: right;\">\n",
              "      <th></th>\n",
              "      <th>pickup_longitude</th>\n",
              "      <th>pickup_latitude</th>\n",
              "      <th>dropoff_longitude</th>\n",
              "      <th>dropoff_latitude</th>\n",
              "    </tr>\n",
              "  </thead>\n",
              "  <tbody>\n",
              "    <tr>\n",
              "      <th>0</th>\n",
              "      <td>-73.953918</td>\n",
              "      <td>40.778873</td>\n",
              "      <td>-73.963875</td>\n",
              "      <td>40.771164</td>\n",
              "    </tr>\n",
              "    <tr>\n",
              "      <th>1</th>\n",
              "      <td>-73.988312</td>\n",
              "      <td>40.731743</td>\n",
              "      <td>-73.994751</td>\n",
              "      <td>40.694931</td>\n",
              "    </tr>\n",
              "    <tr>\n",
              "      <th>2</th>\n",
              "      <td>-73.997314</td>\n",
              "      <td>40.721458</td>\n",
              "      <td>-73.948029</td>\n",
              "      <td>40.774918</td>\n",
              "    </tr>\n",
              "    <tr>\n",
              "      <th>3</th>\n",
              "      <td>-73.961670</td>\n",
              "      <td>40.759720</td>\n",
              "      <td>-73.956779</td>\n",
              "      <td>40.780628</td>\n",
              "    </tr>\n",
              "    <tr>\n",
              "      <th>4</th>\n",
              "      <td>-74.017120</td>\n",
              "      <td>40.708469</td>\n",
              "      <td>-73.988182</td>\n",
              "      <td>40.740631</td>\n",
              "    </tr>\n",
              "    <tr>\n",
              "      <th>...</th>\n",
              "      <td>...</td>\n",
              "      <td>...</td>\n",
              "      <td>...</td>\n",
              "      <td>...</td>\n",
              "    </tr>\n",
              "    <tr>\n",
              "      <th>149995</th>\n",
              "      <td>-73.980270</td>\n",
              "      <td>40.775326</td>\n",
              "      <td>-73.962090</td>\n",
              "      <td>40.763794</td>\n",
              "    </tr>\n",
              "    <tr>\n",
              "      <th>149996</th>\n",
              "      <td>-73.981804</td>\n",
              "      <td>40.769016</td>\n",
              "      <td>-73.979767</td>\n",
              "      <td>40.780998</td>\n",
              "    </tr>\n",
              "    <tr>\n",
              "      <th>149997</th>\n",
              "      <td>-73.989838</td>\n",
              "      <td>40.714241</td>\n",
              "      <td>-73.988083</td>\n",
              "      <td>40.745743</td>\n",
              "    </tr>\n",
              "    <tr>\n",
              "      <th>149998</th>\n",
              "      <td>-73.989395</td>\n",
              "      <td>40.726200</td>\n",
              "      <td>-74.001060</td>\n",
              "      <td>40.721779</td>\n",
              "    </tr>\n",
              "    <tr>\n",
              "      <th>149999</th>\n",
              "      <td>-73.961037</td>\n",
              "      <td>40.777695</td>\n",
              "      <td>-73.967461</td>\n",
              "      <td>40.801250</td>\n",
              "    </tr>\n",
              "  </tbody>\n",
              "</table>\n",
              "<p>150000 rows × 4 columns</p>\n",
              "</div>\n",
              "      <button class=\"colab-df-convert\" onclick=\"convertToInteractive('df-35793dd8-cc57-4391-b20e-6086e71f335b')\"\n",
              "              title=\"Convert this dataframe to an interactive table.\"\n",
              "              style=\"display:none;\">\n",
              "        \n",
              "  <svg xmlns=\"http://www.w3.org/2000/svg\" height=\"24px\"viewBox=\"0 0 24 24\"\n",
              "       width=\"24px\">\n",
              "    <path d=\"M0 0h24v24H0V0z\" fill=\"none\"/>\n",
              "    <path d=\"M18.56 5.44l.94 2.06.94-2.06 2.06-.94-2.06-.94-.94-2.06-.94 2.06-2.06.94zm-11 1L8.5 8.5l.94-2.06 2.06-.94-2.06-.94L8.5 2.5l-.94 2.06-2.06.94zm10 10l.94 2.06.94-2.06 2.06-.94-2.06-.94-.94-2.06-.94 2.06-2.06.94z\"/><path d=\"M17.41 7.96l-1.37-1.37c-.4-.4-.92-.59-1.43-.59-.52 0-1.04.2-1.43.59L10.3 9.45l-7.72 7.72c-.78.78-.78 2.05 0 2.83L4 21.41c.39.39.9.59 1.41.59.51 0 1.02-.2 1.41-.59l7.78-7.78 2.81-2.81c.8-.78.8-2.07 0-2.86zM5.41 20L4 18.59l7.72-7.72 1.47 1.35L5.41 20z\"/>\n",
              "  </svg>\n",
              "      </button>\n",
              "      \n",
              "  <style>\n",
              "    .colab-df-container {\n",
              "      display:flex;\n",
              "      flex-wrap:wrap;\n",
              "      gap: 12px;\n",
              "    }\n",
              "\n",
              "    .colab-df-convert {\n",
              "      background-color: #E8F0FE;\n",
              "      border: none;\n",
              "      border-radius: 50%;\n",
              "      cursor: pointer;\n",
              "      display: none;\n",
              "      fill: #1967D2;\n",
              "      height: 32px;\n",
              "      padding: 0 0 0 0;\n",
              "      width: 32px;\n",
              "    }\n",
              "\n",
              "    .colab-df-convert:hover {\n",
              "      background-color: #E2EBFA;\n",
              "      box-shadow: 0px 1px 2px rgba(60, 64, 67, 0.3), 0px 1px 3px 1px rgba(60, 64, 67, 0.15);\n",
              "      fill: #174EA6;\n",
              "    }\n",
              "\n",
              "    [theme=dark] .colab-df-convert {\n",
              "      background-color: #3B4455;\n",
              "      fill: #D2E3FC;\n",
              "    }\n",
              "\n",
              "    [theme=dark] .colab-df-convert:hover {\n",
              "      background-color: #434B5C;\n",
              "      box-shadow: 0px 1px 3px 1px rgba(0, 0, 0, 0.15);\n",
              "      filter: drop-shadow(0px 1px 2px rgba(0, 0, 0, 0.3));\n",
              "      fill: #FFFFFF;\n",
              "    }\n",
              "  </style>\n",
              "\n",
              "      <script>\n",
              "        const buttonEl =\n",
              "          document.querySelector('#df-35793dd8-cc57-4391-b20e-6086e71f335b button.colab-df-convert');\n",
              "        buttonEl.style.display =\n",
              "          google.colab.kernel.accessAllowed ? 'block' : 'none';\n",
              "\n",
              "        async function convertToInteractive(key) {\n",
              "          const element = document.querySelector('#df-35793dd8-cc57-4391-b20e-6086e71f335b');\n",
              "          const dataTable =\n",
              "            await google.colab.kernel.invokeFunction('convertToInteractive',\n",
              "                                                     [key], {});\n",
              "          if (!dataTable) return;\n",
              "\n",
              "          const docLinkHtml = 'Like what you see? Visit the ' +\n",
              "            '<a target=\"_blank\" href=https://colab.research.google.com/notebooks/data_table.ipynb>data table notebook</a>'\n",
              "            + ' to learn more about interactive tables.';\n",
              "          element.innerHTML = '';\n",
              "          dataTable['output_type'] = 'display_data';\n",
              "          await google.colab.output.renderOutput(dataTable, element);\n",
              "          const docLink = document.createElement('div');\n",
              "          docLink.innerHTML = docLinkHtml;\n",
              "          element.appendChild(docLink);\n",
              "        }\n",
              "      </script>\n",
              "    </div>\n",
              "  </div>\n",
              "  "
            ],
            "text/plain": [
              "        pickup_longitude  pickup_latitude  dropoff_longitude  dropoff_latitude\n",
              "0             -73.953918        40.778873         -73.963875         40.771164\n",
              "1             -73.988312        40.731743         -73.994751         40.694931\n",
              "2             -73.997314        40.721458         -73.948029         40.774918\n",
              "3             -73.961670        40.759720         -73.956779         40.780628\n",
              "4             -74.017120        40.708469         -73.988182         40.740631\n",
              "...                  ...              ...                ...               ...\n",
              "149995        -73.980270        40.775326         -73.962090         40.763794\n",
              "149996        -73.981804        40.769016         -73.979767         40.780998\n",
              "149997        -73.989838        40.714241         -73.988083         40.745743\n",
              "149998        -73.989395        40.726200         -74.001060         40.721779\n",
              "149999        -73.961037        40.777695         -73.967461         40.801250\n",
              "\n",
              "[150000 rows x 4 columns]"
            ]
          },
          "execution_count": 33,
          "metadata": {},
          "output_type": "execute_result"
        }
      ],
      "source": [
        "X"
      ]
    },
    {
      "cell_type": "code",
      "execution_count": null,
      "id": "wi-uaB8RpGwC",
      "metadata": {
        "id": "wi-uaB8RpGwC"
      },
      "outputs": [],
      "source": [
        "X_train, X_test, y_train, y_test = train_test_split(X, y, test_size=0.2)"
      ]
    },
    {
      "cell_type": "code",
      "execution_count": null,
      "id": "Xpr1k1FFpJk_",
      "metadata": {
        "colab": {
          "base_uri": "https://localhost:8080/",
          "height": 300
        },
        "id": "Xpr1k1FFpJk_",
        "outputId": "3ee832f6-de88-4edd-e3c2-5368b9b51d4b"
      },
      "outputs": [
        {
          "data": {
            "text/html": [
              "\n",
              "  <div id=\"df-6d2a4c08-00ce-44b6-a35d-78b015f2977b\">\n",
              "    <div class=\"colab-df-container\">\n",
              "      <div>\n",
              "<style scoped>\n",
              "    .dataframe tbody tr th:only-of-type {\n",
              "        vertical-align: middle;\n",
              "    }\n",
              "\n",
              "    .dataframe tbody tr th {\n",
              "        vertical-align: top;\n",
              "    }\n",
              "\n",
              "    .dataframe thead th {\n",
              "        text-align: right;\n",
              "    }\n",
              "</style>\n",
              "<table border=\"1\" class=\"dataframe\">\n",
              "  <thead>\n",
              "    <tr style=\"text-align: right;\">\n",
              "      <th></th>\n",
              "      <th>pickup_longitude</th>\n",
              "      <th>pickup_latitude</th>\n",
              "      <th>dropoff_longitude</th>\n",
              "      <th>dropoff_latitude</th>\n",
              "    </tr>\n",
              "  </thead>\n",
              "  <tbody>\n",
              "    <tr>\n",
              "      <th>count</th>\n",
              "      <td>1.200000e+05</td>\n",
              "      <td>1.200000e+05</td>\n",
              "      <td>1.200000e+05</td>\n",
              "      <td>1.200000e+05</td>\n",
              "    </tr>\n",
              "    <tr>\n",
              "      <th>mean</th>\n",
              "      <td>-8.163870e-14</td>\n",
              "      <td>7.883791e-14</td>\n",
              "      <td>-2.204104e-15</td>\n",
              "      <td>2.793315e-14</td>\n",
              "    </tr>\n",
              "    <tr>\n",
              "      <th>std</th>\n",
              "      <td>1.000004e+00</td>\n",
              "      <td>1.000004e+00</td>\n",
              "      <td>1.000004e+00</td>\n",
              "      <td>1.000004e+00</td>\n",
              "    </tr>\n",
              "    <tr>\n",
              "      <th>min</th>\n",
              "      <td>-7.103759e+00</td>\n",
              "      <td>-9.239030e+00</td>\n",
              "      <td>-1.713658e+01</td>\n",
              "      <td>-1.271665e+01</td>\n",
              "    </tr>\n",
              "    <tr>\n",
              "      <th>25%</th>\n",
              "      <td>-4.791927e-01</td>\n",
              "      <td>-4.570740e-01</td>\n",
              "      <td>-4.881567e-01</td>\n",
              "      <td>-4.915789e-01</td>\n",
              "    </tr>\n",
              "    <tr>\n",
              "      <th>50%</th>\n",
              "      <td>-2.173671e-01</td>\n",
              "      <td>8.400381e-02</td>\n",
              "      <td>-1.761689e-01</td>\n",
              "      <td>7.996780e-02</td>\n",
              "    </tr>\n",
              "    <tr>\n",
              "      <th>75%</th>\n",
              "      <td>1.541987e-01</td>\n",
              "      <td>5.436469e-01</td>\n",
              "      <td>2.759119e-01</td>\n",
              "      <td>5.534075e-01</td>\n",
              "    </tr>\n",
              "    <tr>\n",
              "      <th>max</th>\n",
              "      <td>1.450550e+01</td>\n",
              "      <td>1.748350e+01</td>\n",
              "      <td>3.438235e+01</td>\n",
              "      <td>1.724123e+01</td>\n",
              "    </tr>\n",
              "  </tbody>\n",
              "</table>\n",
              "</div>\n",
              "      <button class=\"colab-df-convert\" onclick=\"convertToInteractive('df-6d2a4c08-00ce-44b6-a35d-78b015f2977b')\"\n",
              "              title=\"Convert this dataframe to an interactive table.\"\n",
              "              style=\"display:none;\">\n",
              "        \n",
              "  <svg xmlns=\"http://www.w3.org/2000/svg\" height=\"24px\"viewBox=\"0 0 24 24\"\n",
              "       width=\"24px\">\n",
              "    <path d=\"M0 0h24v24H0V0z\" fill=\"none\"/>\n",
              "    <path d=\"M18.56 5.44l.94 2.06.94-2.06 2.06-.94-2.06-.94-.94-2.06-.94 2.06-2.06.94zm-11 1L8.5 8.5l.94-2.06 2.06-.94-2.06-.94L8.5 2.5l-.94 2.06-2.06.94zm10 10l.94 2.06.94-2.06 2.06-.94-2.06-.94-.94-2.06-.94 2.06-2.06.94z\"/><path d=\"M17.41 7.96l-1.37-1.37c-.4-.4-.92-.59-1.43-.59-.52 0-1.04.2-1.43.59L10.3 9.45l-7.72 7.72c-.78.78-.78 2.05 0 2.83L4 21.41c.39.39.9.59 1.41.59.51 0 1.02-.2 1.41-.59l7.78-7.78 2.81-2.81c.8-.78.8-2.07 0-2.86zM5.41 20L4 18.59l7.72-7.72 1.47 1.35L5.41 20z\"/>\n",
              "  </svg>\n",
              "      </button>\n",
              "      \n",
              "  <style>\n",
              "    .colab-df-container {\n",
              "      display:flex;\n",
              "      flex-wrap:wrap;\n",
              "      gap: 12px;\n",
              "    }\n",
              "\n",
              "    .colab-df-convert {\n",
              "      background-color: #E8F0FE;\n",
              "      border: none;\n",
              "      border-radius: 50%;\n",
              "      cursor: pointer;\n",
              "      display: none;\n",
              "      fill: #1967D2;\n",
              "      height: 32px;\n",
              "      padding: 0 0 0 0;\n",
              "      width: 32px;\n",
              "    }\n",
              "\n",
              "    .colab-df-convert:hover {\n",
              "      background-color: #E2EBFA;\n",
              "      box-shadow: 0px 1px 2px rgba(60, 64, 67, 0.3), 0px 1px 3px 1px rgba(60, 64, 67, 0.15);\n",
              "      fill: #174EA6;\n",
              "    }\n",
              "\n",
              "    [theme=dark] .colab-df-convert {\n",
              "      background-color: #3B4455;\n",
              "      fill: #D2E3FC;\n",
              "    }\n",
              "\n",
              "    [theme=dark] .colab-df-convert:hover {\n",
              "      background-color: #434B5C;\n",
              "      box-shadow: 0px 1px 3px 1px rgba(0, 0, 0, 0.15);\n",
              "      filter: drop-shadow(0px 1px 2px rgba(0, 0, 0, 0.3));\n",
              "      fill: #FFFFFF;\n",
              "    }\n",
              "  </style>\n",
              "\n",
              "      <script>\n",
              "        const buttonEl =\n",
              "          document.querySelector('#df-6d2a4c08-00ce-44b6-a35d-78b015f2977b button.colab-df-convert');\n",
              "        buttonEl.style.display =\n",
              "          google.colab.kernel.accessAllowed ? 'block' : 'none';\n",
              "\n",
              "        async function convertToInteractive(key) {\n",
              "          const element = document.querySelector('#df-6d2a4c08-00ce-44b6-a35d-78b015f2977b');\n",
              "          const dataTable =\n",
              "            await google.colab.kernel.invokeFunction('convertToInteractive',\n",
              "                                                     [key], {});\n",
              "          if (!dataTable) return;\n",
              "\n",
              "          const docLinkHtml = 'Like what you see? Visit the ' +\n",
              "            '<a target=\"_blank\" href=https://colab.research.google.com/notebooks/data_table.ipynb>data table notebook</a>'\n",
              "            + ' to learn more about interactive tables.';\n",
              "          element.innerHTML = '';\n",
              "          dataTable['output_type'] = 'display_data';\n",
              "          await google.colab.output.renderOutput(dataTable, element);\n",
              "          const docLink = document.createElement('div');\n",
              "          docLink.innerHTML = docLinkHtml;\n",
              "          element.appendChild(docLink);\n",
              "        }\n",
              "      </script>\n",
              "    </div>\n",
              "  </div>\n",
              "  "
            ],
            "text/plain": [
              "       pickup_longitude  pickup_latitude  dropoff_longitude  dropoff_latitude\n",
              "count      1.200000e+05     1.200000e+05       1.200000e+05      1.200000e+05\n",
              "mean      -8.163870e-14     7.883791e-14      -2.204104e-15      2.793315e-14\n",
              "std        1.000004e+00     1.000004e+00       1.000004e+00      1.000004e+00\n",
              "min       -7.103759e+00    -9.239030e+00      -1.713658e+01     -1.271665e+01\n",
              "25%       -4.791927e-01    -4.570740e-01      -4.881567e-01     -4.915789e-01\n",
              "50%       -2.173671e-01     8.400381e-02      -1.761689e-01      7.996780e-02\n",
              "75%        1.541987e-01     5.436469e-01       2.759119e-01      5.534075e-01\n",
              "max        1.450550e+01     1.748350e+01       3.438235e+01      1.724123e+01"
            ]
          },
          "execution_count": 35,
          "metadata": {},
          "output_type": "execute_result"
        }
      ],
      "source": [
        "from sklearn.preprocessing import StandardScaler\n",
        "\n",
        "standardScaler = StandardScaler()\n",
        "standardScaler.fit(X_train)\n",
        "X_train_std = pd.DataFrame(standardScaler.transform(X_train), columns=X.columns)\n",
        "X_test_std = pd.DataFrame(standardScaler.transform(X_test), columns=X.columns)\n",
        "X_train_std.describe()"
      ]
    },
    {
      "cell_type": "code",
      "execution_count": null,
      "id": "ChzW75uFpmjN",
      "metadata": {
        "colab": {
          "base_uri": "https://localhost:8080/"
        },
        "id": "ChzW75uFpmjN",
        "outputId": "68c4f394-0580-4201-a148-076a87314089"
      },
      "outputs": [
        {
          "name": "stdout",
          "output_type": "stream",
          "text": [
            "1001\n",
            "MAE: 771.2944716849088\n",
            "MSE: 9354221.033089392\n",
            "RMSE: 3058.467105118084\n",
            "MAPE: 0.8081303833041992\n",
            "R^2: -0.0613965\n"
          ]
        }
      ],
      "source": [
        "myLinearRegression = MyLR()\n",
        "model = myLinearRegression.fit(X_train_std, y_train)\n",
        "y_pred = myLinearRegression.predict(X_test_std)\n",
        "print(f'MAE: {Metrics.mean_absolute_error(y_test, y_pred)}')\n",
        "print(f'MSE: {Metrics.mean_squared_error(y_test, y_pred)}')\n",
        "print(f'RMSE: {Metrics.root_mean_squared_error(y_test, y_pred)}')\n",
        "print(f'MAPE: {Metrics.mean_absolute_percentage_error(y_test, y_pred)}')\n",
        "print(f'R^2: {Metrics.r_2_score(y_test, y_pred):.7f}')"
      ]
    },
    {
      "cell_type": "code",
      "execution_count": null,
      "id": "oQBKQVjkqRSk",
      "metadata": {
        "colab": {
          "base_uri": "https://localhost:8080/"
        },
        "id": "oQBKQVjkqRSk",
        "outputId": "d92a7c4a-d48b-48a5-fcd2-4d8ae5288033"
      },
      "outputs": [
        {
          "name": "stdout",
          "output_type": "stream",
          "text": [
            "1001\n",
            "MAE: 617.8074057818067\n",
            "MSE: 9676994.129208172\n",
            "RMSE: 3110.7867379825593\n",
            "MAPE: 1.5147299673161336\n",
            "R^2: -0.0000553\n"
          ]
        }
      ],
      "source": [
        "ridge = MyRidge(0.01, 1000, 0.9)\n",
        "model = ridge.fit(X_train_std, y_train)\n",
        "y_pred = ridge.predict(X_test_std)\n",
        "print(f'MAE: {Metrics.mean_absolute_error(y_test, y_pred)}')\n",
        "print(f'MSE: {Metrics.mean_squared_error(y_test, y_pred)}')\n",
        "print(f'RMSE: {Metrics.root_mean_squared_error(y_test, y_pred)}')\n",
        "print(f'MAPE: {Metrics.mean_absolute_percentage_error(y_test, y_pred)}')\n",
        "print(f'R^2: {Metrics.r_2_score(y_test, y_pred):.7f}')"
      ]
    }
  ],
  "metadata": {
    "colab": {
      "provenance": []
    },
    "kernelspec": {
      "display_name": "Python 3 (ipykernel)",
      "language": "python",
      "name": "python3"
    },
    "language_info": {
      "codemirror_mode": {
        "name": "ipython",
        "version": 3
      },
      "file_extension": ".py",
      "mimetype": "text/x-python",
      "name": "python",
      "nbconvert_exporter": "python",
      "pygments_lexer": "ipython3",
      "version": "3.9.13"
    }
  },
  "nbformat": 4,
  "nbformat_minor": 5
}
