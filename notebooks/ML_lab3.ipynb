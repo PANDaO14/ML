{
  "cells": [
    {
      "cell_type": "markdown",
      "metadata": {
        "id": "cQwELTGidhuh"
      },
      "source": [
        "# **Лабораторная работа №3**"
      ]
    },
    {
      "cell_type": "markdown",
      "metadata": {
        "id": "ki6XECbSdnd5"
      },
      "source": [
        "### **Задание 1**."
      ]
    },
    {
      "cell_type": "markdown",
      "metadata": {
        "id": "x3UnwfyaeIiW"
      },
      "source": [
        "Классификация"
      ]
    },
    {
      "cell_type": "code",
      "execution_count": 1,
      "metadata": {
        "colab": {
          "base_uri": "https://localhost:8080/",
          "height": 424
        },
        "id": "Jk8RkqPZdVjg",
        "outputId": "8f00bab9-35d9-44da-b039-c6a75f397813"
      },
      "outputs": [
        {
          "data": {
            "text/html": [
              "<div>\n",
              "<style scoped>\n",
              "    .dataframe tbody tr th:only-of-type {\n",
              "        vertical-align: middle;\n",
              "    }\n",
              "\n",
              "    .dataframe tbody tr th {\n",
              "        vertical-align: top;\n",
              "    }\n",
              "\n",
              "    .dataframe thead th {\n",
              "        text-align: right;\n",
              "    }\n",
              "</style>\n",
              "<table border=\"1\" class=\"dataframe\">\n",
              "  <thead>\n",
              "    <tr style=\"text-align: right;\">\n",
              "      <th></th>\n",
              "      <th>time_left</th>\n",
              "      <th>ct_score</th>\n",
              "      <th>t_score</th>\n",
              "      <th>bomb_planted</th>\n",
              "      <th>ct_health</th>\n",
              "      <th>t_health</th>\n",
              "      <th>ct_money</th>\n",
              "      <th>t_money</th>\n",
              "      <th>ct_players_alive</th>\n",
              "      <th>t_players_alive</th>\n",
              "      <th>map_de_cache</th>\n",
              "      <th>map_de_dust2</th>\n",
              "      <th>map_de_inferno</th>\n",
              "      <th>map_de_mirage</th>\n",
              "      <th>map_de_nuke</th>\n",
              "      <th>map_de_overpass</th>\n",
              "      <th>map_de_train</th>\n",
              "      <th>map_de_vertigo</th>\n",
              "    </tr>\n",
              "  </thead>\n",
              "  <tbody>\n",
              "    <tr>\n",
              "      <th>0</th>\n",
              "      <td>175.00</td>\n",
              "      <td>0.0</td>\n",
              "      <td>0.0</td>\n",
              "      <td>0</td>\n",
              "      <td>500.0</td>\n",
              "      <td>500.0</td>\n",
              "      <td>4000.0</td>\n",
              "      <td>4000.0</td>\n",
              "      <td>5.0</td>\n",
              "      <td>5.0</td>\n",
              "      <td>0</td>\n",
              "      <td>1</td>\n",
              "      <td>0</td>\n",
              "      <td>0</td>\n",
              "      <td>0</td>\n",
              "      <td>0</td>\n",
              "      <td>0</td>\n",
              "      <td>0</td>\n",
              "    </tr>\n",
              "    <tr>\n",
              "      <th>1</th>\n",
              "      <td>156.03</td>\n",
              "      <td>0.0</td>\n",
              "      <td>0.0</td>\n",
              "      <td>0</td>\n",
              "      <td>500.0</td>\n",
              "      <td>500.0</td>\n",
              "      <td>600.0</td>\n",
              "      <td>650.0</td>\n",
              "      <td>5.0</td>\n",
              "      <td>5.0</td>\n",
              "      <td>0</td>\n",
              "      <td>1</td>\n",
              "      <td>0</td>\n",
              "      <td>0</td>\n",
              "      <td>0</td>\n",
              "      <td>0</td>\n",
              "      <td>0</td>\n",
              "      <td>0</td>\n",
              "    </tr>\n",
              "    <tr>\n",
              "      <th>2</th>\n",
              "      <td>96.03</td>\n",
              "      <td>0.0</td>\n",
              "      <td>0.0</td>\n",
              "      <td>0</td>\n",
              "      <td>391.0</td>\n",
              "      <td>400.0</td>\n",
              "      <td>750.0</td>\n",
              "      <td>500.0</td>\n",
              "      <td>4.0</td>\n",
              "      <td>4.0</td>\n",
              "      <td>0</td>\n",
              "      <td>1</td>\n",
              "      <td>0</td>\n",
              "      <td>0</td>\n",
              "      <td>0</td>\n",
              "      <td>0</td>\n",
              "      <td>0</td>\n",
              "      <td>0</td>\n",
              "    </tr>\n",
              "    <tr>\n",
              "      <th>3</th>\n",
              "      <td>76.03</td>\n",
              "      <td>0.0</td>\n",
              "      <td>0.0</td>\n",
              "      <td>0</td>\n",
              "      <td>391.0</td>\n",
              "      <td>400.0</td>\n",
              "      <td>750.0</td>\n",
              "      <td>500.0</td>\n",
              "      <td>4.0</td>\n",
              "      <td>4.0</td>\n",
              "      <td>0</td>\n",
              "      <td>1</td>\n",
              "      <td>0</td>\n",
              "      <td>0</td>\n",
              "      <td>0</td>\n",
              "      <td>0</td>\n",
              "      <td>0</td>\n",
              "      <td>0</td>\n",
              "    </tr>\n",
              "    <tr>\n",
              "      <th>4</th>\n",
              "      <td>174.97</td>\n",
              "      <td>1.0</td>\n",
              "      <td>0.0</td>\n",
              "      <td>0</td>\n",
              "      <td>500.0</td>\n",
              "      <td>500.0</td>\n",
              "      <td>18350.0</td>\n",
              "      <td>10750.0</td>\n",
              "      <td>5.0</td>\n",
              "      <td>5.0</td>\n",
              "      <td>0</td>\n",
              "      <td>1</td>\n",
              "      <td>0</td>\n",
              "      <td>0</td>\n",
              "      <td>0</td>\n",
              "      <td>0</td>\n",
              "      <td>0</td>\n",
              "      <td>0</td>\n",
              "    </tr>\n",
              "    <tr>\n",
              "      <th>...</th>\n",
              "      <td>...</td>\n",
              "      <td>...</td>\n",
              "      <td>...</td>\n",
              "      <td>...</td>\n",
              "      <td>...</td>\n",
              "      <td>...</td>\n",
              "      <td>...</td>\n",
              "      <td>...</td>\n",
              "      <td>...</td>\n",
              "      <td>...</td>\n",
              "      <td>...</td>\n",
              "      <td>...</td>\n",
              "      <td>...</td>\n",
              "      <td>...</td>\n",
              "      <td>...</td>\n",
              "      <td>...</td>\n",
              "      <td>...</td>\n",
              "      <td>...</td>\n",
              "    </tr>\n",
              "    <tr>\n",
              "      <th>122405</th>\n",
              "      <td>15.41</td>\n",
              "      <td>11.0</td>\n",
              "      <td>14.0</td>\n",
              "      <td>1</td>\n",
              "      <td>200.0</td>\n",
              "      <td>242.0</td>\n",
              "      <td>100.0</td>\n",
              "      <td>5950.0</td>\n",
              "      <td>2.0</td>\n",
              "      <td>4.0</td>\n",
              "      <td>0</td>\n",
              "      <td>0</td>\n",
              "      <td>0</td>\n",
              "      <td>0</td>\n",
              "      <td>0</td>\n",
              "      <td>0</td>\n",
              "      <td>1</td>\n",
              "      <td>0</td>\n",
              "    </tr>\n",
              "    <tr>\n",
              "      <th>122406</th>\n",
              "      <td>174.93</td>\n",
              "      <td>11.0</td>\n",
              "      <td>15.0</td>\n",
              "      <td>0</td>\n",
              "      <td>500.0</td>\n",
              "      <td>500.0</td>\n",
              "      <td>11500.0</td>\n",
              "      <td>23900.0</td>\n",
              "      <td>5.0</td>\n",
              "      <td>5.0</td>\n",
              "      <td>0</td>\n",
              "      <td>0</td>\n",
              "      <td>0</td>\n",
              "      <td>0</td>\n",
              "      <td>0</td>\n",
              "      <td>0</td>\n",
              "      <td>1</td>\n",
              "      <td>0</td>\n",
              "    </tr>\n",
              "    <tr>\n",
              "      <th>122407</th>\n",
              "      <td>114.93</td>\n",
              "      <td>11.0</td>\n",
              "      <td>15.0</td>\n",
              "      <td>0</td>\n",
              "      <td>500.0</td>\n",
              "      <td>500.0</td>\n",
              "      <td>1200.0</td>\n",
              "      <td>6700.0</td>\n",
              "      <td>5.0</td>\n",
              "      <td>5.0</td>\n",
              "      <td>0</td>\n",
              "      <td>0</td>\n",
              "      <td>0</td>\n",
              "      <td>0</td>\n",
              "      <td>0</td>\n",
              "      <td>0</td>\n",
              "      <td>1</td>\n",
              "      <td>0</td>\n",
              "    </tr>\n",
              "    <tr>\n",
              "      <th>122408</th>\n",
              "      <td>94.93</td>\n",
              "      <td>11.0</td>\n",
              "      <td>15.0</td>\n",
              "      <td>0</td>\n",
              "      <td>500.0</td>\n",
              "      <td>500.0</td>\n",
              "      <td>1200.0</td>\n",
              "      <td>6700.0</td>\n",
              "      <td>5.0</td>\n",
              "      <td>5.0</td>\n",
              "      <td>0</td>\n",
              "      <td>0</td>\n",
              "      <td>0</td>\n",
              "      <td>0</td>\n",
              "      <td>0</td>\n",
              "      <td>0</td>\n",
              "      <td>1</td>\n",
              "      <td>0</td>\n",
              "    </tr>\n",
              "    <tr>\n",
              "      <th>122409</th>\n",
              "      <td>74.93</td>\n",
              "      <td>11.0</td>\n",
              "      <td>15.0</td>\n",
              "      <td>0</td>\n",
              "      <td>375.0</td>\n",
              "      <td>479.0</td>\n",
              "      <td>1100.0</td>\n",
              "      <td>7000.0</td>\n",
              "      <td>4.0</td>\n",
              "      <td>5.0</td>\n",
              "      <td>0</td>\n",
              "      <td>0</td>\n",
              "      <td>0</td>\n",
              "      <td>0</td>\n",
              "      <td>0</td>\n",
              "      <td>0</td>\n",
              "      <td>1</td>\n",
              "      <td>0</td>\n",
              "    </tr>\n",
              "  </tbody>\n",
              "</table>\n",
              "<p>116579 rows × 18 columns</p>\n",
              "</div>"
            ],
            "text/plain": [
              "        time_left  ct_score  t_score  bomb_planted  ct_health  t_health  \\\n",
              "0          175.00       0.0      0.0             0      500.0     500.0   \n",
              "1          156.03       0.0      0.0             0      500.0     500.0   \n",
              "2           96.03       0.0      0.0             0      391.0     400.0   \n",
              "3           76.03       0.0      0.0             0      391.0     400.0   \n",
              "4          174.97       1.0      0.0             0      500.0     500.0   \n",
              "...           ...       ...      ...           ...        ...       ...   \n",
              "122405      15.41      11.0     14.0             1      200.0     242.0   \n",
              "122406     174.93      11.0     15.0             0      500.0     500.0   \n",
              "122407     114.93      11.0     15.0             0      500.0     500.0   \n",
              "122408      94.93      11.0     15.0             0      500.0     500.0   \n",
              "122409      74.93      11.0     15.0             0      375.0     479.0   \n",
              "\n",
              "        ct_money  t_money  ct_players_alive  t_players_alive  map_de_cache  \\\n",
              "0         4000.0   4000.0               5.0              5.0             0   \n",
              "1          600.0    650.0               5.0              5.0             0   \n",
              "2          750.0    500.0               4.0              4.0             0   \n",
              "3          750.0    500.0               4.0              4.0             0   \n",
              "4        18350.0  10750.0               5.0              5.0             0   \n",
              "...          ...      ...               ...              ...           ...   \n",
              "122405     100.0   5950.0               2.0              4.0             0   \n",
              "122406   11500.0  23900.0               5.0              5.0             0   \n",
              "122407    1200.0   6700.0               5.0              5.0             0   \n",
              "122408    1200.0   6700.0               5.0              5.0             0   \n",
              "122409    1100.0   7000.0               4.0              5.0             0   \n",
              "\n",
              "        map_de_dust2  map_de_inferno  map_de_mirage  map_de_nuke  \\\n",
              "0                  1               0              0            0   \n",
              "1                  1               0              0            0   \n",
              "2                  1               0              0            0   \n",
              "3                  1               0              0            0   \n",
              "4                  1               0              0            0   \n",
              "...              ...             ...            ...          ...   \n",
              "122405             0               0              0            0   \n",
              "122406             0               0              0            0   \n",
              "122407             0               0              0            0   \n",
              "122408             0               0              0            0   \n",
              "122409             0               0              0            0   \n",
              "\n",
              "        map_de_overpass  map_de_train  map_de_vertigo  \n",
              "0                     0             0               0  \n",
              "1                     0             0               0  \n",
              "2                     0             0               0  \n",
              "3                     0             0               0  \n",
              "4                     0             0               0  \n",
              "...                 ...           ...             ...  \n",
              "122405                0             1               0  \n",
              "122406                0             1               0  \n",
              "122407                0             1               0  \n",
              "122408                0             1               0  \n",
              "122409                0             1               0  \n",
              "\n",
              "[116579 rows x 18 columns]"
            ]
          },
          "metadata": {},
          "output_type": "display_data"
        }
      ],
      "source": [
        "from sklearn.tree import DecisionTreeClassifier \n",
        "from sklearn.model_selection import GridSearchCV\n",
        "from sklearn.model_selection import train_test_split\n",
        "from imblearn.under_sampling import RandomUnderSampler\n",
        "from sklearn.preprocessing import StandardScaler\n",
        "from sklearn.metrics import mean_squared_error, mean_absolute_error, mean_absolute_percentage_error, r2_score\n",
        "from math import sqrt\n",
        "from sklearn.metrics import accuracy_score, confusion_matrix, classification_report, precision_score, recall_score, f1_score\n",
        "import numpy as np\n",
        "import pandas as pd\n",
        "\n",
        "df = pd.read_csv(\"../data/classification/csgo_task_update.csv\", index_col=0).drop_duplicates()\n",
        "display(df)\n",
        "\n",
        "y = df['bomb_planted']\n",
        "X = df.drop(['bomb_planted'], axis=1)\n",
        "\n",
        "underSampler = RandomUnderSampler(sampling_strategy='majority')\n",
        "X_under_sample, y_under_sample = underSampler.fit_resample(X, y)\n",
        "\n",
        "X_train_clf, X_test_clf, y_train_clf, y_test_clf = train_test_split(X_under_sample, y_under_sample, test_size=0.2, random_state = 4)\n",
        "\n",
        "scaler = StandardScaler()\n",
        "\n",
        "scaler.fit(X_train_clf, y_train_clf)\n",
        "X_train_std_clf = scaler.transform(X_train_clf)\n",
        "X_test_std_clf = scaler.transform(X_test_clf)"
      ]
    },
    {
      "cell_type": "markdown",
      "metadata": {
        "id": "7fQU5QabL-zO"
      },
      "source": [
        "Поиск наилучших гиперпараметров"
      ]
    },
    {
      "cell_type": "code",
      "execution_count": null,
      "metadata": {
        "colab": {
          "base_uri": "https://localhost:8080/"
        },
        "id": "kolT4XA0JJ6X",
        "outputId": "ceaf34e6-17c0-49f7-ed31-3e50c1655f30"
      },
      "outputs": [
        {
          "name": "stdout",
          "output_type": "stream",
          "text": [
            "{'criterion': 'entropy', 'max_depth': 7, 'min_samples_leaf': 3, 'min_samples_split': 3, 'splitter': 'best'}\n",
            "0.9771647789550603\n"
          ]
        }
      ],
      "source": [
        "param_grid = {\n",
        "    'criterion': ['gini', 'entropy'],\n",
        "    'splitter': ['best', 'random'],\n",
        "    'max_depth': [1, 2, 3, 4, 5, 6, 7, 8, 9],\n",
        "    'min_samples_split': [2, 3, 4],\n",
        "    'min_samples_leaf': [1, 2, 3]\n",
        "}\n",
        "\n",
        "grid_search = GridSearchCV(DecisionTreeClassifier(), param_grid)\n",
        "grid_search.fit(X_train_std_clf, y_train_clf)\n",
        "best_params = grid_search.best_params_\n",
        "print(best_params)\n",
        "\n",
        "clf = DecisionTreeClassifier(criterion= best_params['criterion'],\n",
        "                             splitter= best_params['splitter'],\n",
        "                             max_depth= best_params['max_depth'],\n",
        "                             min_samples_split= best_params['min_samples_split'],\n",
        "                             min_samples_leaf= best_params['min_samples_leaf']\n",
        "                             )\n",
        "clf.fit(X_train_std_clf, y_train_clf)\n",
        "y_pred_clf = clf.predict(X_test_std_clf)\n",
        "print(clf.score(X_test_std_clf, y_test_clf))"
      ]
    },
    {
      "cell_type": "markdown",
      "metadata": {
        "id": "x3nFjuSOMnbU"
      },
      "source": [
        "Метрики"
      ]
    },
    {
      "cell_type": "code",
      "execution_count": null,
      "metadata": {
        "colab": {
          "base_uri": "https://localhost:8080/"
        },
        "id": "b0BkveYCKQUz",
        "outputId": "cacf3afe-0767-4f96-e96b-d8a867318ae1"
      },
      "outputs": [
        {
          "name": "stdout",
          "output_type": "stream",
          "text": [
            "Accuracy: 0.9769820971867008\n",
            "Confusion matrix:\n",
            " [[2689   95]\n",
            " [  31 2659]]\n",
            "Precision, Recall, F-score:\n",
            "              precision    recall  f1-score   support\n",
            "\n",
            "           0       0.99      0.97      0.98      2784\n",
            "           1       0.97      0.99      0.98      2690\n",
            "\n",
            "    accuracy                           0.98      5474\n",
            "   macro avg       0.98      0.98      0.98      5474\n",
            "weighted avg       0.98      0.98      0.98      5474\n",
            "\n"
          ]
        }
      ],
      "source": [
        "print(f\"Accuracy: {accuracy_score(y_test_clf, y_pred_clf)}\")\n",
        "print(f\"Confusion matrix:\\n {confusion_matrix(y_test_clf, y_pred_clf)}\")\n",
        "print(f\"Precision, Recall, F-score:\\n{classification_report(y_test_clf, y_pred_clf)}\")"
      ]
    },
    {
      "cell_type": "code",
      "execution_count": null,
      "metadata": {
        "colab": {
          "base_uri": "https://localhost:8080/"
        },
        "id": "5kHgse0MmvLK",
        "outputId": "22bda406-92f1-44fd-d871-392fda14666d"
      },
      "outputs": [
        {
          "name": "stdout",
          "output_type": "stream",
          "text": [
            "|--- feature_0 <= -0.43\n",
            "|   |--- feature_3 <= 0.06\n",
            "|   |   |--- feature_0 <= -0.53\n",
            "|   |   |   |--- feature_0 <= -0.90\n",
            "|   |   |   |   |--- feature_0 <= -0.90\n",
            "|   |   |   |   |   |--- feature_3 <= -0.72\n",
            "|   |   |   |   |   |   |--- feature_0 <= -0.90\n",
            "|   |   |   |   |   |   |   |--- class: 1\n",
            "|   |   |   |   |   |   |--- feature_0 >  -0.90\n",
            "|   |   |   |   |   |   |   |--- class: 1\n",
            "|   |   |   |   |   |--- feature_3 >  -0.72\n",
            "|   |   |   |   |   |   |--- feature_4 <= -0.46\n",
            "|   |   |   |   |   |   |   |--- class: 1\n",
            "|   |   |   |   |   |   |--- feature_4 >  -0.46\n",
            "|   |   |   |   |   |   |   |--- class: 1\n",
            "|   |   |   |   |--- feature_0 >  -0.90\n",
            "|   |   |   |   |   |--- feature_3 <= -1.11\n",
            "|   |   |   |   |   |   |--- feature_0 <= -0.90\n",
            "|   |   |   |   |   |   |   |--- class: 1\n",
            "|   |   |   |   |   |   |--- feature_0 >  -0.90\n",
            "|   |   |   |   |   |   |   |--- class: 0\n",
            "|   |   |   |   |   |--- feature_3 >  -1.11\n",
            "|   |   |   |   |   |   |--- feature_4 <= -0.32\n",
            "|   |   |   |   |   |   |   |--- class: 0\n",
            "|   |   |   |   |   |   |--- feature_4 >  -0.32\n",
            "|   |   |   |   |   |   |   |--- class: 0\n",
            "|   |   |   |--- feature_0 >  -0.90\n",
            "|   |   |   |   |--- feature_3 <= -0.60\n",
            "|   |   |   |   |   |--- feature_4 <= -0.42\n",
            "|   |   |   |   |   |   |--- feature_4 <= -1.93\n",
            "|   |   |   |   |   |   |   |--- class: 1\n",
            "|   |   |   |   |   |   |--- feature_4 >  -1.93\n",
            "|   |   |   |   |   |   |   |--- class: 1\n",
            "|   |   |   |   |   |--- feature_4 >  -0.42\n",
            "|   |   |   |   |   |   |--- feature_0 <= -0.68\n",
            "|   |   |   |   |   |   |   |--- class: 1\n",
            "|   |   |   |   |   |   |--- feature_0 >  -0.68\n",
            "|   |   |   |   |   |   |   |--- class: 1\n",
            "|   |   |   |   |--- feature_3 >  -0.60\n",
            "|   |   |   |   |   |--- feature_0 <= -0.68\n",
            "|   |   |   |   |   |   |--- feature_5 <= 0.06\n",
            "|   |   |   |   |   |   |   |--- class: 1\n",
            "|   |   |   |   |   |   |--- feature_5 >  0.06\n",
            "|   |   |   |   |   |   |   |--- class: 1\n",
            "|   |   |   |   |   |--- feature_0 >  -0.68\n",
            "|   |   |   |   |   |   |--- feature_0 <= -0.67\n",
            "|   |   |   |   |   |   |   |--- class: 1\n",
            "|   |   |   |   |   |   |--- feature_0 >  -0.67\n",
            "|   |   |   |   |   |   |   |--- class: 1\n",
            "|   |   |--- feature_0 >  -0.53\n",
            "|   |   |   |--- feature_0 <= -0.52\n",
            "|   |   |   |   |--- feature_0 <= -0.52\n",
            "|   |   |   |   |   |--- feature_4 <= -0.74\n",
            "|   |   |   |   |   |   |--- feature_5 <= -0.25\n",
            "|   |   |   |   |   |   |   |--- class: 1\n",
            "|   |   |   |   |   |   |--- feature_5 >  -0.25\n",
            "|   |   |   |   |   |   |   |--- class: 0\n",
            "|   |   |   |   |   |--- feature_4 >  -0.74\n",
            "|   |   |   |   |   |   |--- feature_0 <= -0.53\n",
            "|   |   |   |   |   |   |   |--- class: 1\n",
            "|   |   |   |   |   |   |--- feature_0 >  -0.53\n",
            "|   |   |   |   |   |   |   |--- class: 1\n",
            "|   |   |   |   |--- feature_0 >  -0.52\n",
            "|   |   |   |   |   |--- feature_0 <= -0.52\n",
            "|   |   |   |   |   |   |--- feature_0 <= -0.52\n",
            "|   |   |   |   |   |   |   |--- class: 0\n",
            "|   |   |   |   |   |   |--- feature_0 >  -0.52\n",
            "|   |   |   |   |   |   |   |--- class: 0\n",
            "|   |   |   |   |   |--- feature_0 >  -0.52\n",
            "|   |   |   |   |   |   |--- feature_1 <= 0.28\n",
            "|   |   |   |   |   |   |   |--- class: 0\n",
            "|   |   |   |   |   |   |--- feature_1 >  0.28\n",
            "|   |   |   |   |   |   |   |--- class: 1\n",
            "|   |   |   |--- feature_0 >  -0.52\n",
            "|   |   |   |   |--- feature_5 <= -0.67\n",
            "|   |   |   |   |   |--- class: 1\n",
            "|   |   |   |   |--- feature_5 >  -0.67\n",
            "|   |   |   |   |   |--- feature_11 <= 0.72\n",
            "|   |   |   |   |   |   |--- feature_15 <= 1.29\n",
            "|   |   |   |   |   |   |   |--- class: 1\n",
            "|   |   |   |   |   |   |--- feature_15 >  1.29\n",
            "|   |   |   |   |   |   |   |--- class: 1\n",
            "|   |   |   |   |   |--- feature_11 >  0.72\n",
            "|   |   |   |   |   |   |--- class: 1\n",
            "|   |--- feature_3 >  0.06\n",
            "|   |   |--- feature_0 <= -0.53\n",
            "|   |   |   |--- feature_0 <= -0.90\n",
            "|   |   |   |   |--- feature_0 <= -0.90\n",
            "|   |   |   |   |   |--- feature_0 <= -1.00\n",
            "|   |   |   |   |   |   |--- class: 1\n",
            "|   |   |   |   |   |--- feature_0 >  -1.00\n",
            "|   |   |   |   |   |   |--- feature_0 <= -0.99\n",
            "|   |   |   |   |   |   |   |--- class: 0\n",
            "|   |   |   |   |   |   |--- feature_0 >  -0.99\n",
            "|   |   |   |   |   |   |   |--- class: 1\n",
            "|   |   |   |   |--- feature_0 >  -0.90\n",
            "|   |   |   |   |   |--- feature_2 <= -1.10\n",
            "|   |   |   |   |   |   |--- feature_6 <= -0.70\n",
            "|   |   |   |   |   |   |   |--- class: 0\n",
            "|   |   |   |   |   |   |--- feature_6 >  -0.70\n",
            "|   |   |   |   |   |   |   |--- class: 0\n",
            "|   |   |   |   |   |--- feature_2 >  -1.10\n",
            "|   |   |   |   |   |   |--- class: 0\n",
            "|   |   |   |--- feature_0 >  -0.90\n",
            "|   |   |   |   |--- feature_2 <= 1.41\n",
            "|   |   |   |   |   |--- feature_1 <= -1.27\n",
            "|   |   |   |   |   |   |--- feature_3 <= 0.54\n",
            "|   |   |   |   |   |   |   |--- class: 1\n",
            "|   |   |   |   |   |   |--- feature_3 >  0.54\n",
            "|   |   |   |   |   |   |   |--- class: 1\n",
            "|   |   |   |   |   |--- feature_1 >  -1.27\n",
            "|   |   |   |   |   |   |--- feature_4 <= -1.87\n",
            "|   |   |   |   |   |   |   |--- class: 1\n",
            "|   |   |   |   |   |   |--- feature_4 >  -1.87\n",
            "|   |   |   |   |   |   |   |--- class: 1\n",
            "|   |   |   |   |--- feature_2 >  1.41\n",
            "|   |   |   |   |   |--- feature_3 <= 0.97\n",
            "|   |   |   |   |   |   |--- feature_10 <= 0.80\n",
            "|   |   |   |   |   |   |   |--- class: 1\n",
            "|   |   |   |   |   |   |--- feature_10 >  0.80\n",
            "|   |   |   |   |   |   |   |--- class: 1\n",
            "|   |   |   |   |   |--- feature_3 >  0.97\n",
            "|   |   |   |   |   |   |--- feature_3 <= 1.15\n",
            "|   |   |   |   |   |   |   |--- class: 0\n",
            "|   |   |   |   |   |   |--- feature_3 >  1.15\n",
            "|   |   |   |   |   |   |   |--- class: 0\n",
            "|   |   |--- feature_0 >  -0.53\n",
            "|   |   |   |--- feature_0 <= -0.52\n",
            "|   |   |   |   |--- feature_0 <= -0.52\n",
            "|   |   |   |   |   |--- feature_3 <= 0.53\n",
            "|   |   |   |   |   |   |--- feature_3 <= 0.32\n",
            "|   |   |   |   |   |   |   |--- class: 0\n",
            "|   |   |   |   |   |   |--- feature_3 >  0.32\n",
            "|   |   |   |   |   |   |   |--- class: 1\n",
            "|   |   |   |   |   |--- feature_3 >  0.53\n",
            "|   |   |   |   |   |   |--- class: 0\n",
            "|   |   |   |   |--- feature_0 >  -0.52\n",
            "|   |   |   |   |   |--- feature_4 <= -1.49\n",
            "|   |   |   |   |   |   |--- class: 0\n",
            "|   |   |   |   |   |--- feature_4 >  -1.49\n",
            "|   |   |   |   |   |   |--- feature_2 <= -1.10\n",
            "|   |   |   |   |   |   |   |--- class: 0\n",
            "|   |   |   |   |   |   |--- feature_2 >  -1.10\n",
            "|   |   |   |   |   |   |   |--- class: 0\n",
            "|   |   |   |--- feature_0 >  -0.52\n",
            "|   |   |   |   |--- feature_7 <= 0.76\n",
            "|   |   |   |   |   |--- feature_6 <= -0.80\n",
            "|   |   |   |   |   |   |--- feature_6 <= -0.81\n",
            "|   |   |   |   |   |   |   |--- class: 1\n",
            "|   |   |   |   |   |   |--- feature_6 >  -0.81\n",
            "|   |   |   |   |   |   |   |--- class: 0\n",
            "|   |   |   |   |   |--- feature_6 >  -0.80\n",
            "|   |   |   |   |   |   |--- feature_6 <= -0.51\n",
            "|   |   |   |   |   |   |   |--- class: 1\n",
            "|   |   |   |   |   |   |--- feature_6 >  -0.51\n",
            "|   |   |   |   |   |   |   |--- class: 1\n",
            "|   |   |   |   |--- feature_7 >  0.76\n",
            "|   |   |   |   |   |--- feature_2 <= 1.41\n",
            "|   |   |   |   |   |   |--- feature_0 <= -0.51\n",
            "|   |   |   |   |   |   |   |--- class: 1\n",
            "|   |   |   |   |   |   |--- feature_0 >  -0.51\n",
            "|   |   |   |   |   |   |   |--- class: 1\n",
            "|   |   |   |   |   |--- feature_2 >  1.41\n",
            "|   |   |   |   |   |   |--- feature_4 <= 0.87\n",
            "|   |   |   |   |   |   |   |--- class: 1\n",
            "|   |   |   |   |   |   |--- feature_4 >  0.87\n",
            "|   |   |   |   |   |   |   |--- class: 0\n",
            "|--- feature_0 >  -0.43\n",
            "|   |--- class: 0\n",
            "\n"
          ]
        }
      ],
      "source": [
        "from sklearn import tree\n",
        "\n",
        "text_representation = tree.export_text(clf)\n",
        "print(text_representation)"
      ]
    },
    {
      "cell_type": "markdown",
      "metadata": {
        "id": "bUc_phIUonOh"
      },
      "source": [
        "Регрессия"
      ]
    },
    {
      "cell_type": "code",
      "execution_count": null,
      "metadata": {
        "colab": {
          "base_uri": "https://localhost:8080/",
          "height": 424
        },
        "id": "I14zc0Srom9W",
        "outputId": "fe4cf92e-ea1c-4438-b04b-f46a376a7254"
      },
      "outputs": [
        {
          "data": {
            "text/html": [
              "\n",
              "  <div id=\"df-fa17def4-7587-4f24-900e-b49a00024697\">\n",
              "    <div class=\"colab-df-container\">\n",
              "      <div>\n",
              "<style scoped>\n",
              "    .dataframe tbody tr th:only-of-type {\n",
              "        vertical-align: middle;\n",
              "    }\n",
              "\n",
              "    .dataframe tbody tr th {\n",
              "        vertical-align: top;\n",
              "    }\n",
              "\n",
              "    .dataframe thead th {\n",
              "        text-align: right;\n",
              "    }\n",
              "</style>\n",
              "<table border=\"1\" class=\"dataframe\">\n",
              "  <thead>\n",
              "    <tr style=\"text-align: right;\">\n",
              "      <th></th>\n",
              "      <th>pickup_longitude</th>\n",
              "      <th>pickup_latitude</th>\n",
              "      <th>dropoff_longitude</th>\n",
              "      <th>dropoff_latitude</th>\n",
              "      <th>trip_duration</th>\n",
              "    </tr>\n",
              "  </thead>\n",
              "  <tbody>\n",
              "    <tr>\n",
              "      <th>0</th>\n",
              "      <td>-73.953918</td>\n",
              "      <td>40.778873</td>\n",
              "      <td>-73.963875</td>\n",
              "      <td>40.771164</td>\n",
              "      <td>400</td>\n",
              "    </tr>\n",
              "    <tr>\n",
              "      <th>1</th>\n",
              "      <td>-73.988312</td>\n",
              "      <td>40.731743</td>\n",
              "      <td>-73.994751</td>\n",
              "      <td>40.694931</td>\n",
              "      <td>1100</td>\n",
              "    </tr>\n",
              "    <tr>\n",
              "      <th>2</th>\n",
              "      <td>-73.997314</td>\n",
              "      <td>40.721458</td>\n",
              "      <td>-73.948029</td>\n",
              "      <td>40.774918</td>\n",
              "      <td>1635</td>\n",
              "    </tr>\n",
              "    <tr>\n",
              "      <th>3</th>\n",
              "      <td>-73.961670</td>\n",
              "      <td>40.759720</td>\n",
              "      <td>-73.956779</td>\n",
              "      <td>40.780628</td>\n",
              "      <td>1141</td>\n",
              "    </tr>\n",
              "    <tr>\n",
              "      <th>4</th>\n",
              "      <td>-74.017120</td>\n",
              "      <td>40.708469</td>\n",
              "      <td>-73.988182</td>\n",
              "      <td>40.740631</td>\n",
              "      <td>848</td>\n",
              "    </tr>\n",
              "    <tr>\n",
              "      <th>...</th>\n",
              "      <td>...</td>\n",
              "      <td>...</td>\n",
              "      <td>...</td>\n",
              "      <td>...</td>\n",
              "      <td>...</td>\n",
              "    </tr>\n",
              "    <tr>\n",
              "      <th>49995</th>\n",
              "      <td>-73.963600</td>\n",
              "      <td>40.765484</td>\n",
              "      <td>-73.974869</td>\n",
              "      <td>40.751869</td>\n",
              "      <td>406</td>\n",
              "    </tr>\n",
              "    <tr>\n",
              "      <th>49996</th>\n",
              "      <td>-73.981430</td>\n",
              "      <td>40.778862</td>\n",
              "      <td>-73.973000</td>\n",
              "      <td>40.790333</td>\n",
              "      <td>126</td>\n",
              "    </tr>\n",
              "    <tr>\n",
              "      <th>49997</th>\n",
              "      <td>-73.995628</td>\n",
              "      <td>40.721668</td>\n",
              "      <td>-73.981697</td>\n",
              "      <td>40.724522</td>\n",
              "      <td>387</td>\n",
              "    </tr>\n",
              "    <tr>\n",
              "      <th>49998</th>\n",
              "      <td>-73.968208</td>\n",
              "      <td>40.765339</td>\n",
              "      <td>-73.933357</td>\n",
              "      <td>40.764420</td>\n",
              "      <td>747</td>\n",
              "    </tr>\n",
              "    <tr>\n",
              "      <th>49999</th>\n",
              "      <td>-73.985497</td>\n",
              "      <td>40.762764</td>\n",
              "      <td>-73.990311</td>\n",
              "      <td>40.771790</td>\n",
              "      <td>218</td>\n",
              "    </tr>\n",
              "  </tbody>\n",
              "</table>\n",
              "<p>50000 rows × 5 columns</p>\n",
              "</div>\n",
              "      <button class=\"colab-df-convert\" onclick=\"convertToInteractive('df-fa17def4-7587-4f24-900e-b49a00024697')\"\n",
              "              title=\"Convert this dataframe to an interactive table.\"\n",
              "              style=\"display:none;\">\n",
              "        \n",
              "  <svg xmlns=\"http://www.w3.org/2000/svg\" height=\"24px\"viewBox=\"0 0 24 24\"\n",
              "       width=\"24px\">\n",
              "    <path d=\"M0 0h24v24H0V0z\" fill=\"none\"/>\n",
              "    <path d=\"M18.56 5.44l.94 2.06.94-2.06 2.06-.94-2.06-.94-.94-2.06-.94 2.06-2.06.94zm-11 1L8.5 8.5l.94-2.06 2.06-.94-2.06-.94L8.5 2.5l-.94 2.06-2.06.94zm10 10l.94 2.06.94-2.06 2.06-.94-2.06-.94-.94-2.06-.94 2.06-2.06.94z\"/><path d=\"M17.41 7.96l-1.37-1.37c-.4-.4-.92-.59-1.43-.59-.52 0-1.04.2-1.43.59L10.3 9.45l-7.72 7.72c-.78.78-.78 2.05 0 2.83L4 21.41c.39.39.9.59 1.41.59.51 0 1.02-.2 1.41-.59l7.78-7.78 2.81-2.81c.8-.78.8-2.07 0-2.86zM5.41 20L4 18.59l7.72-7.72 1.47 1.35L5.41 20z\"/>\n",
              "  </svg>\n",
              "      </button>\n",
              "      \n",
              "  <style>\n",
              "    .colab-df-container {\n",
              "      display:flex;\n",
              "      flex-wrap:wrap;\n",
              "      gap: 12px;\n",
              "    }\n",
              "\n",
              "    .colab-df-convert {\n",
              "      background-color: #E8F0FE;\n",
              "      border: none;\n",
              "      border-radius: 50%;\n",
              "      cursor: pointer;\n",
              "      display: none;\n",
              "      fill: #1967D2;\n",
              "      height: 32px;\n",
              "      padding: 0 0 0 0;\n",
              "      width: 32px;\n",
              "    }\n",
              "\n",
              "    .colab-df-convert:hover {\n",
              "      background-color: #E2EBFA;\n",
              "      box-shadow: 0px 1px 2px rgba(60, 64, 67, 0.3), 0px 1px 3px 1px rgba(60, 64, 67, 0.15);\n",
              "      fill: #174EA6;\n",
              "    }\n",
              "\n",
              "    [theme=dark] .colab-df-convert {\n",
              "      background-color: #3B4455;\n",
              "      fill: #D2E3FC;\n",
              "    }\n",
              "\n",
              "    [theme=dark] .colab-df-convert:hover {\n",
              "      background-color: #434B5C;\n",
              "      box-shadow: 0px 1px 3px 1px rgba(0, 0, 0, 0.15);\n",
              "      filter: drop-shadow(0px 1px 2px rgba(0, 0, 0, 0.3));\n",
              "      fill: #FFFFFF;\n",
              "    }\n",
              "  </style>\n",
              "\n",
              "      <script>\n",
              "        const buttonEl =\n",
              "          document.querySelector('#df-fa17def4-7587-4f24-900e-b49a00024697 button.colab-df-convert');\n",
              "        buttonEl.style.display =\n",
              "          google.colab.kernel.accessAllowed ? 'block' : 'none';\n",
              "\n",
              "        async function convertToInteractive(key) {\n",
              "          const element = document.querySelector('#df-fa17def4-7587-4f24-900e-b49a00024697');\n",
              "          const dataTable =\n",
              "            await google.colab.kernel.invokeFunction('convertToInteractive',\n",
              "                                                     [key], {});\n",
              "          if (!dataTable) return;\n",
              "\n",
              "          const docLinkHtml = 'Like what you see? Visit the ' +\n",
              "            '<a target=\"_blank\" href=https://colab.research.google.com/notebooks/data_table.ipynb>data table notebook</a>'\n",
              "            + ' to learn more about interactive tables.';\n",
              "          element.innerHTML = '';\n",
              "          dataTable['output_type'] = 'display_data';\n",
              "          await google.colab.output.renderOutput(dataTable, element);\n",
              "          const docLink = document.createElement('div');\n",
              "          docLink.innerHTML = docLinkHtml;\n",
              "          element.appendChild(docLink);\n",
              "        }\n",
              "      </script>\n",
              "    </div>\n",
              "  </div>\n",
              "  "
            ],
            "text/plain": [
              "       pickup_longitude  pickup_latitude  dropoff_longitude  dropoff_latitude  \\\n",
              "0            -73.953918        40.778873         -73.963875         40.771164   \n",
              "1            -73.988312        40.731743         -73.994751         40.694931   \n",
              "2            -73.997314        40.721458         -73.948029         40.774918   \n",
              "3            -73.961670        40.759720         -73.956779         40.780628   \n",
              "4            -74.017120        40.708469         -73.988182         40.740631   \n",
              "...                 ...              ...                ...               ...   \n",
              "49995        -73.963600        40.765484         -73.974869         40.751869   \n",
              "49996        -73.981430        40.778862         -73.973000         40.790333   \n",
              "49997        -73.995628        40.721668         -73.981697         40.724522   \n",
              "49998        -73.968208        40.765339         -73.933357         40.764420   \n",
              "49999        -73.985497        40.762764         -73.990311         40.771790   \n",
              "\n",
              "       trip_duration  \n",
              "0                400  \n",
              "1               1100  \n",
              "2               1635  \n",
              "3               1141  \n",
              "4                848  \n",
              "...              ...  \n",
              "49995            406  \n",
              "49996            126  \n",
              "49997            387  \n",
              "49998            747  \n",
              "49999            218  \n",
              "\n",
              "[50000 rows x 5 columns]"
            ]
          },
          "metadata": {},
          "output_type": "display_data"
        }
      ],
      "source": [
        "from sklearn.tree import DecisionTreeRegressor\n",
        "\n",
        "df = pd.read_csv(\"/content/drive/MyDrive/ML/RegressionFirstLab/trip_duration_update.csv\", index_col=0).head(50000)\n",
        "display(df)\n",
        "\n",
        "y = df[\"trip_duration\"]\n",
        "X = df.drop([\"trip_duration\"], axis=1)\n",
        "\n",
        "X_train_reg, X_test_reg, y_train_reg, y_test_reg = train_test_split(X, y, test_size=0.2)\n",
        "\n",
        "scaler = StandardScaler()\n",
        "scaler.fit(X_train_reg, y_train_reg)\n",
        "X_train_reg = scaler.transform(X_train_reg)\n",
        "X_test_reg = scaler.transform(X_test_reg)"
      ]
    },
    {
      "cell_type": "markdown",
      "metadata": {
        "id": "eIu6kO20NFPj"
      },
      "source": [
        "Поиск наилучших гиперпараметров"
      ]
    },
    {
      "cell_type": "code",
      "execution_count": null,
      "metadata": {
        "colab": {
          "base_uri": "https://localhost:8080/"
        },
        "id": "wWDaU43uL89o",
        "outputId": "99a826e6-809b-4652-8c92-39fbbcd1d17f"
      },
      "outputs": [
        {
          "name": "stderr",
          "output_type": "stream",
          "text": [
            "/usr/local/lib/python3.9/dist-packages/sklearn/model_selection/_search.py:305: UserWarning: The total space of parameters 6 is smaller than n_iter=10. Running 6 iterations. For exhaustive searches, use GridSearchCV.\n",
            "  warnings.warn(\n"
          ]
        },
        {
          "name": "stdout",
          "output_type": "stream",
          "text": [
            "{'splitter': 'best', 'max_depth': 5, 'criterion': 'absolute_error'}\n",
            "0.0240458234271248\n"
          ]
        }
      ],
      "source": [
        "from sklearn.model_selection import RandomizedSearchCV\n",
        "\n",
        "\n",
        "param_grid = {\n",
        "    'criterion': ['squared_error', 'absolute_error'],\n",
        "    'splitter': ['best'],\n",
        "    'max_depth': [3, 4, 5]\n",
        "}\n",
        "\n",
        "grid_search = RandomizedSearchCV(DecisionTreeRegressor(), param_grid)\n",
        "grid_search.fit(X_train_reg, y_train_reg)\n",
        "best_params = grid_search.best_params_\n",
        "print(best_params)\n",
        "\n",
        "reg = DecisionTreeRegressor(criterion= best_params['criterion'],\n",
        "                             splitter= best_params['splitter'],\n",
        "                             max_depth= best_params['max_depth'])\n",
        "reg.fit(X_train_reg, y_train_reg)\n",
        "y_pred_reg = reg.predict(X_test_reg)\n",
        "print(reg.score(X_test_reg, y_test_reg))"
      ]
    },
    {
      "cell_type": "code",
      "execution_count": null,
      "metadata": {
        "colab": {
          "base_uri": "https://localhost:8080/"
        },
        "id": "TavjRcQKlERP",
        "outputId": "a233e94b-4733-4ad8-f94a-505154fb3841"
      },
      "outputs": [
        {
          "name": "stdout",
          "output_type": "stream",
          "text": [
            "MAE: 430.3991\n",
            "MSE: 6993937.6557\n",
            "RMSE: 2644.605387520036\n",
            "MAPE: 0.9440858559589781\n",
            "R^2: 0.0240458234271248\n"
          ]
        }
      ],
      "source": [
        "\n",
        "\n",
        "print(f'MAE: {mean_absolute_error(y_test_reg, y_pred_reg)}')\n",
        "print(f'MSE: {mean_squared_error(y_test_reg, y_pred_reg)}')\n",
        "print(f'RMSE: {sqrt(mean_squared_error(y_test_reg, y_pred_reg))}')\n",
        "print(f'MAPE: {sqrt(mean_absolute_percentage_error(y_test_reg, y_pred_reg))}')\n",
        "print(f'R^2: {r2_score(y_test_reg, y_pred_reg)}')"
      ]
    },
    {
      "cell_type": "code",
      "execution_count": null,
      "metadata": {
        "colab": {
          "base_uri": "https://localhost:8080/"
        },
        "id": "XHLNLL4Wql9_",
        "outputId": "ce0748d7-0bf5-4abe-ccdf-f3adc7b7f2bf"
      },
      "outputs": [
        {
          "name": "stdout",
          "output_type": "stream",
          "text": [
            "|--- feature_0 <= 2.31\n",
            "|   |--- feature_2 <= 1.59\n",
            "|   |   |--- feature_3 <= -1.56\n",
            "|   |   |   |--- feature_1 <= -0.64\n",
            "|   |   |   |   |--- feature_1 <= -1.59\n",
            "|   |   |   |   |   |--- value: [502.00]\n",
            "|   |   |   |   |--- feature_1 >  -1.59\n",
            "|   |   |   |   |   |--- value: [1092.50]\n",
            "|   |   |   |--- feature_1 >  -0.64\n",
            "|   |   |   |   |--- feature_1 <= -0.05\n",
            "|   |   |   |   |   |--- value: [1556.50]\n",
            "|   |   |   |   |--- feature_1 >  -0.05\n",
            "|   |   |   |   |   |--- value: [1954.00]\n",
            "|   |   |--- feature_3 >  -1.56\n",
            "|   |   |   |--- feature_3 <= -0.83\n",
            "|   |   |   |   |--- feature_1 <= -0.37\n",
            "|   |   |   |   |   |--- value: [547.00]\n",
            "|   |   |   |   |--- feature_1 >  -0.37\n",
            "|   |   |   |   |   |--- value: [1134.00]\n",
            "|   |   |   |--- feature_3 >  -0.83\n",
            "|   |   |   |   |--- feature_1 <= -0.99\n",
            "|   |   |   |   |   |--- value: [970.50]\n",
            "|   |   |   |   |--- feature_1 >  -0.99\n",
            "|   |   |   |   |   |--- value: [571.00]\n",
            "|   |--- feature_2 >  1.59\n",
            "|   |   |--- feature_2 <= 3.62\n",
            "|   |   |   |--- feature_0 <= 0.49\n",
            "|   |   |   |   |--- feature_0 <= -0.39\n",
            "|   |   |   |   |   |--- value: [1916.50]\n",
            "|   |   |   |   |--- feature_0 >  -0.39\n",
            "|   |   |   |   |   |--- value: [1482.00]\n",
            "|   |   |   |--- feature_0 >  0.49\n",
            "|   |   |   |   |--- feature_0 <= 1.17\n",
            "|   |   |   |   |   |--- value: [975.00]\n",
            "|   |   |   |   |--- feature_0 >  1.17\n",
            "|   |   |   |   |   |--- value: [429.00]\n",
            "|   |   |--- feature_2 >  3.62\n",
            "|   |   |   |--- feature_0 <= -0.10\n",
            "|   |   |   |   |--- feature_3 <= -2.85\n",
            "|   |   |   |   |   |--- value: [2837.00]\n",
            "|   |   |   |   |--- feature_3 >  -2.85\n",
            "|   |   |   |   |   |--- value: [2230.00]\n",
            "|   |   |   |--- feature_0 >  -0.10\n",
            "|   |   |   |   |--- feature_0 <= 0.82\n",
            "|   |   |   |   |   |--- value: [2274.00]\n",
            "|   |   |   |   |--- feature_0 >  0.82\n",
            "|   |   |   |   |   |--- value: [1585.50]\n",
            "|--- feature_0 >  2.31\n",
            "|   |--- feature_2 <= 1.25\n",
            "|   |   |--- feature_0 <= 4.17\n",
            "|   |   |   |--- feature_2 <= -0.00\n",
            "|   |   |   |   |--- feature_2 <= -0.61\n",
            "|   |   |   |   |   |--- value: [2288.00]\n",
            "|   |   |   |   |--- feature_2 >  -0.61\n",
            "|   |   |   |   |   |--- value: [1882.50]\n",
            "|   |   |   |--- feature_2 >  -0.00\n",
            "|   |   |   |   |--- feature_3 <= -1.97\n",
            "|   |   |   |   |   |--- value: [2061.50]\n",
            "|   |   |   |   |--- feature_3 >  -1.97\n",
            "|   |   |   |   |   |--- value: [1343.00]\n",
            "|   |   |--- feature_0 >  4.17\n",
            "|   |   |   |--- feature_2 <= 0.09\n",
            "|   |   |   |   |--- feature_3 <= 0.22\n",
            "|   |   |   |   |   |--- value: [2566.50]\n",
            "|   |   |   |   |--- feature_3 >  0.22\n",
            "|   |   |   |   |   |--- value: [3108.00]\n",
            "|   |   |   |--- feature_2 >  0.09\n",
            "|   |   |   |   |--- feature_3 <= 1.33\n",
            "|   |   |   |   |   |--- value: [2131.00]\n",
            "|   |   |   |   |--- feature_3 >  1.33\n",
            "|   |   |   |   |   |--- value: [2754.00]\n",
            "|   |--- feature_2 >  1.25\n",
            "|   |   |--- feature_3 <= 2.68\n",
            "|   |   |   |--- feature_2 <= 5.97\n",
            "|   |   |   |   |--- feature_1 <= -3.37\n",
            "|   |   |   |   |   |--- value: [1092.00]\n",
            "|   |   |   |   |--- feature_1 >  -3.37\n",
            "|   |   |   |   |   |--- value: [751.00]\n",
            "|   |   |   |--- feature_2 >  5.97\n",
            "|   |   |   |   |--- feature_0 <= 4.84\n",
            "|   |   |   |   |   |--- value: [1640.50]\n",
            "|   |   |   |   |--- feature_0 >  4.84\n",
            "|   |   |   |   |   |--- value: [1130.00]\n",
            "|   |   |--- feature_3 >  2.68\n",
            "|   |   |   |--- feature_1 <= -1.42\n",
            "|   |   |   |   |--- feature_3 <= 5.71\n",
            "|   |   |   |   |   |--- value: [2567.00]\n",
            "|   |   |   |   |--- feature_3 >  5.71\n",
            "|   |   |   |   |   |--- value: [3574.50]\n",
            "|   |   |   |--- feature_1 >  -1.42\n",
            "|   |   |   |   |--- feature_1 <= 2.77\n",
            "|   |   |   |   |   |--- value: [1915.00]\n",
            "|   |   |   |   |--- feature_1 >  2.77\n",
            "|   |   |   |   |   |--- value: [231.50]\n",
            "\n"
          ]
        }
      ],
      "source": [
        "from sklearn import tree\n",
        "\n",
        "text_representation = tree.export_text(reg)\n",
        "print(text_representation)"
      ]
    },
    {
      "cell_type": "markdown",
      "metadata": {
        "id": "KrfWH7zQUeuP"
      },
      "source": [
        "### **Задание 2**\n"
      ]
    },
    {
      "cell_type": "markdown",
      "metadata": {
        "id": "hyoRxnUsWe-q"
      },
      "source": [
        "### BaggingClassifier"
      ]
    },
    {
      "cell_type": "code",
      "execution_count": null,
      "metadata": {
        "colab": {
          "base_uri": "https://localhost:8080/"
        },
        "id": "W8-BUhu_VGrj",
        "outputId": "95169562-d710-4c28-82b0-78a641d2868f"
      },
      "outputs": [
        {
          "name": "stdout",
          "output_type": "stream",
          "text": [
            "{'max_features': 1.0, 'max_samples': 0.5, 'n_estimators': 30}\n",
            "0.979539641943734\n"
          ]
        }
      ],
      "source": [
        "from sklearn.ensemble import BaggingClassifier\n",
        "\n",
        "base_estimator = DecisionTreeClassifier(random_state=0)\n",
        "\n",
        "param_grid = {\n",
        "    'n_estimators': [10, 20, 30],\n",
        "    'max_samples': [0.5, 1.0],\n",
        "    'max_features': [0.5, 1.0]\n",
        "}\n",
        "\n",
        "grid_search = GridSearchCV(BaggingClassifier(estimator=base_estimator,\n",
        "                                random_state=0), param_grid)\n",
        "grid_search.fit(X_train_std_clf, y_train_clf)\n",
        "best_params = grid_search.best_params_\n",
        "print(best_params)\n",
        "\n",
        "y_pred_clf = grid_search.predict(X_test_std_clf)\n",
        "print(grid_search.score(X_test_std_clf, y_test_clf))"
      ]
    },
    {
      "cell_type": "code",
      "execution_count": null,
      "metadata": {
        "colab": {
          "base_uri": "https://localhost:8080/"
        },
        "id": "MYU099PGuVUP",
        "outputId": "380de4ad-6c7f-4b43-b77b-195638b90e91"
      },
      "outputs": [
        {
          "name": "stdout",
          "output_type": "stream",
          "text": [
            "Accuracy: 0.979539641943734\n",
            "Confusion matrix:\n",
            " [[2696   88]\n",
            " [  24 2666]]\n",
            "Precision, Recall, F-score:\n",
            "              precision    recall  f1-score   support\n",
            "\n",
            "           0       0.99      0.97      0.98      2784\n",
            "           1       0.97      0.99      0.98      2690\n",
            "\n",
            "    accuracy                           0.98      5474\n",
            "   macro avg       0.98      0.98      0.98      5474\n",
            "weighted avg       0.98      0.98      0.98      5474\n",
            "\n"
          ]
        }
      ],
      "source": [
        "print(f\"Accuracy: {accuracy_score(y_test_clf, y_pred_clf)}\")\n",
        "print(f\"Confusion matrix:\\n {confusion_matrix(y_test_clf, y_pred_clf)}\")\n",
        "print(f\"Precision, Recall, F-score:\\n{classification_report(y_test_clf, y_pred_clf)}\")"
      ]
    },
    {
      "cell_type": "markdown",
      "metadata": {
        "id": "SdkS2JDQeoXA"
      },
      "source": [
        "### BaggingRegressor"
      ]
    },
    {
      "cell_type": "code",
      "execution_count": null,
      "metadata": {
        "colab": {
          "base_uri": "https://localhost:8080/"
        },
        "id": "dKEmZby2en8v",
        "outputId": "a2401fe6-b0f3-4982-a7a5-14237411c56c"
      },
      "outputs": [
        {
          "name": "stdout",
          "output_type": "stream",
          "text": [
            "{'max_features': 1.0, 'max_samples': 1.0, 'n_estimators': 20}\n",
            "-4.796791044573684\n"
          ]
        }
      ],
      "source": [
        "from sklearn.ensemble import BaggingRegressor\n",
        "\n",
        "base_estimator = DecisionTreeRegressor(random_state=0)\n",
        "\n",
        "param_grid = {\n",
        "    'n_estimators': [10, 20, 30],\n",
        "    'max_samples': [0.5, 1.0],\n",
        "    'max_features': [0.5, 1.0]\n",
        "}\n",
        "\n",
        "grid_search = GridSearchCV(BaggingRegressor(estimator=base_estimator,\n",
        "                               random_state=0), param_grid)\n",
        "grid_search.fit(X_train_reg, y_train_reg)\n",
        "best_params = grid_search.best_params_\n",
        "print(best_params)\n",
        "\n",
        "y_pred_reg = grid_search.predict(X_test_reg)\n",
        "print(grid_search.score(X_test_reg, y_test_reg))"
      ]
    },
    {
      "cell_type": "code",
      "execution_count": null,
      "metadata": {
        "colab": {
          "base_uri": "https://localhost:8080/"
        },
        "id": "q4c_-W4DuYgf",
        "outputId": "634f7cf1-e4fd-4ed9-b3e5-579061348840"
      },
      "outputs": [
        {
          "name": "stdout",
          "output_type": "stream",
          "text": [
            "MAE: 512.80666\n",
            "MSE: 41541289.685582995\n",
            "RMSE: 6445.253267760934\n",
            "MAPE: 0.8969569907173697\n",
            "R^2: -4.796791044573684\n"
          ]
        }
      ],
      "source": [
        "print(f'MAE: {mean_absolute_error(y_test_reg, y_pred_reg)}')\n",
        "print(f'MSE: {mean_squared_error(y_test_reg, y_pred_reg)}')\n",
        "print(f'RMSE: {sqrt(mean_squared_error(y_test_reg, y_pred_reg))}')\n",
        "print(f'MAPE: {sqrt(mean_absolute_percentage_error(y_test_reg, y_pred_reg))}')\n",
        "print(f'R^2: {r2_score(y_test_reg, y_pred_reg)}')"
      ]
    },
    {
      "cell_type": "markdown",
      "metadata": {
        "id": "3I1suAuuhocB"
      },
      "source": [
        "### GradientBoostingClassifier"
      ]
    },
    {
      "cell_type": "code",
      "execution_count": null,
      "metadata": {
        "colab": {
          "base_uri": "https://localhost:8080/"
        },
        "id": "GDH-ZSxxhpBU",
        "outputId": "c859a545-42cc-4f37-c10d-66c2b5ad17f2"
      },
      "outputs": [
        {
          "name": "stdout",
          "output_type": "stream",
          "text": [
            "{'n_estimators': 200}\n",
            "0.9815491413956887\n"
          ]
        }
      ],
      "source": [
        "from sklearn.ensemble import GradientBoostingClassifier\n",
        "\n",
        "param_grid = {\n",
        "    'n_estimators': [100, 200, 300]\n",
        "}\n",
        "\n",
        "grid_search = GridSearchCV(GradientBoostingClassifier(random_state=0), param_grid)\n",
        "grid_search.fit(X_train_std_clf, y_train_clf)\n",
        "best_params = grid_search.best_params_\n",
        "print(best_params)\n",
        "\n",
        "y_pred_clf = grid_search.predict(X_test_std_clf)\n",
        "print(grid_search.score(X_test_std_clf, y_test_clf))"
      ]
    },
    {
      "cell_type": "code",
      "execution_count": null,
      "metadata": {
        "colab": {
          "base_uri": "https://localhost:8080/"
        },
        "id": "Vc4Sq1h_u5Qz",
        "outputId": "d78169e7-37b2-4ca9-b96f-e2e59de69fd1"
      },
      "outputs": [
        {
          "name": "stdout",
          "output_type": "stream",
          "text": [
            "Accuracy: 0.9815491413956887\n",
            "Confusion matrix:\n",
            " [[2705   79]\n",
            " [  22 2668]]\n",
            "Precision, Recall, F-score:\n",
            "              precision    recall  f1-score   support\n",
            "\n",
            "           0       0.99      0.97      0.98      2784\n",
            "           1       0.97      0.99      0.98      2690\n",
            "\n",
            "    accuracy                           0.98      5474\n",
            "   macro avg       0.98      0.98      0.98      5474\n",
            "weighted avg       0.98      0.98      0.98      5474\n",
            "\n"
          ]
        }
      ],
      "source": [
        "print(f\"Accuracy: {accuracy_score(y_test_clf, y_pred_clf)}\")\n",
        "print(f\"Confusion matrix:\\n {confusion_matrix(y_test_clf, y_pred_clf)}\")\n",
        "print(f\"Precision, Recall, F-score:\\n{classification_report(y_test_clf, y_pred_clf)}\")"
      ]
    },
    {
      "cell_type": "markdown",
      "metadata": {
        "id": "FzH2XerOpPnJ"
      },
      "source": [
        "### GradientBoostingRegressor"
      ]
    },
    {
      "cell_type": "code",
      "execution_count": null,
      "metadata": {
        "colab": {
          "base_uri": "https://localhost:8080/"
        },
        "id": "t93RjzlmpVll",
        "outputId": "f376c430-79de-475a-d75b-77a10d3d7504"
      },
      "outputs": [
        {
          "name": "stderr",
          "output_type": "stream",
          "text": [
            "/usr/local/lib/python3.9/dist-packages/sklearn/model_selection/_search.py:305: UserWarning: The total space of parameters 3 is smaller than n_iter=10. Running 3 iterations. For exhaustive searches, use GridSearchCV.\n",
            "  warnings.warn(\n"
          ]
        },
        {
          "name": "stdout",
          "output_type": "stream",
          "text": [
            "{'n_estimators': 300, 'learning_rate': 0.0001}\n",
            "0.0002081307030576962\n"
          ]
        }
      ],
      "source": [
        "from sklearn.ensemble import GradientBoostingRegressor\n",
        "\n",
        "param_grid = {\n",
        "    'n_estimators': [100, 200, 300],\n",
        "    'learning_rate': [0.0001]\n",
        "}\n",
        "\n",
        "grid_search = RandomizedSearchCV(GradientBoostingRegressor(random_state=0), param_grid)\n",
        "grid_search.fit(X_train_reg, y_train_reg)\n",
        "best_params = grid_search.best_params_\n",
        "print(best_params)\n",
        "\n",
        "y_pred_reg = grid_search.predict(X_test_reg)\n",
        "print(grid_search.score(X_test_reg, y_test_reg))"
      ]
    },
    {
      "cell_type": "code",
      "execution_count": null,
      "metadata": {
        "colab": {
          "base_uri": "https://localhost:8080/"
        },
        "id": "vrG1pto9u7Q6",
        "outputId": "893d45a8-cefd-4b3e-9602-ee147fa9422e"
      },
      "outputs": [
        {
          "name": "stdout",
          "output_type": "stream",
          "text": [
            "MAE: 606.1651187060999\n",
            "MSE: 7164764.668658031\n",
            "RMSE: 2676.707804123945\n",
            "MAPE: 1.2833286541424773\n",
            "R^2: 0.0002081307030576962\n"
          ]
        }
      ],
      "source": [
        "print(f'MAE: {mean_absolute_error(y_test_reg, y_pred_reg)}')\n",
        "print(f'MSE: {mean_squared_error(y_test_reg, y_pred_reg)}')\n",
        "print(f'RMSE: {sqrt(mean_squared_error(y_test_reg, y_pred_reg))}')\n",
        "print(f'MAPE: {sqrt(mean_absolute_percentage_error(y_test_reg, y_pred_reg))}')\n",
        "print(f'R^2: {r2_score(y_test_reg, y_pred_reg)}')"
      ]
    },
    {
      "cell_type": "markdown",
      "metadata": {
        "id": "nTFKle8KqWKy"
      },
      "source": [
        "### StackingClassifier"
      ]
    },
    {
      "cell_type": "code",
      "execution_count": null,
      "metadata": {
        "colab": {
          "base_uri": "https://localhost:8080/"
        },
        "id": "G3piFDj9qZ0-",
        "outputId": "1e406aa9-a781-42d8-b32c-ff5d50a6d85d"
      },
      "outputs": [
        {
          "name": "stdout",
          "output_type": "stream",
          "text": [
            "0.9649251004749726\n"
          ]
        }
      ],
      "source": [
        "from sklearn.ensemble import StackingClassifier\n",
        "from sklearn.linear_model import LogisticRegression\n",
        "from sklearn.svm import SVC\n",
        "\n",
        "base_estimators = [('svc', SVC(probability=True)), ('dt', DecisionTreeClassifier())]\n",
        "\n",
        "final_estimator = LogisticRegression()\n",
        "\n",
        "clf = StackingClassifier(estimators=base_estimators, final_estimator=final_estimator)\n",
        "clf.fit(X_train_std_clf, y_train_clf)\n",
        "y_pred_clf = clf.predict(X_test_std_clf)\n",
        "print(clf.score(X_test_std_clf, y_test_clf))                                "
      ]
    },
    {
      "cell_type": "code",
      "execution_count": null,
      "metadata": {
        "colab": {
          "base_uri": "https://localhost:8080/"
        },
        "id": "eMGOIKFFw41T",
        "outputId": "f8998a79-f614-4ec9-b97e-f7c76211226c"
      },
      "outputs": [
        {
          "name": "stdout",
          "output_type": "stream",
          "text": [
            "Accuracy: 0.9649251004749726\n",
            "Confusion matrix:\n",
            " [[2695   89]\n",
            " [ 103 2587]]\n",
            "Precision, Recall, F-score:\n",
            "              precision    recall  f1-score   support\n",
            "\n",
            "           0       0.96      0.97      0.97      2784\n",
            "           1       0.97      0.96      0.96      2690\n",
            "\n",
            "    accuracy                           0.96      5474\n",
            "   macro avg       0.96      0.96      0.96      5474\n",
            "weighted avg       0.96      0.96      0.96      5474\n",
            "\n"
          ]
        }
      ],
      "source": [
        "print(f\"Accuracy: {accuracy_score(y_test_clf, y_pred_clf)}\")\n",
        "print(f\"Confusion matrix:\\n {confusion_matrix(y_test_clf, y_pred_clf)}\")\n",
        "print(f\"Precision, Recall, F-score:\\n{classification_report(y_test_clf, y_pred_clf)}\")"
      ]
    },
    {
      "cell_type": "markdown",
      "metadata": {
        "id": "OwYgjnBkt_lc"
      },
      "source": [
        "### StackingRegressor"
      ]
    },
    {
      "cell_type": "code",
      "execution_count": null,
      "metadata": {
        "colab": {
          "base_uri": "https://localhost:8080/"
        },
        "id": "9DHNQvjWuF2I",
        "outputId": "675f4d1c-4ece-4793-b6f8-462f481d8200"
      },
      "outputs": [
        {
          "name": "stdout",
          "output_type": "stream",
          "text": [
            "0.022495847337780095\n"
          ]
        }
      ],
      "source": [
        "from sklearn.ensemble import StackingRegressor\n",
        "from sklearn.linear_model import LinearRegression\n",
        "from sklearn.svm import SVR\n",
        "\n",
        "base_estimators = [('svr', SVR()), ('dt', DecisionTreeRegressor())]\n",
        "\n",
        "final_estimator = LinearRegression()\n",
        "\n",
        "reg = StackingRegressor(estimators=base_estimators, final_estimator=final_estimator)\n",
        "reg.fit(X_train_reg, y_train_reg)\n",
        "\n",
        "y_pred_reg = reg.predict(X_test_reg)\n",
        "print(reg.score(X_test_reg, y_test_reg))"
      ]
    },
    {
      "cell_type": "code",
      "execution_count": null,
      "metadata": {
        "colab": {
          "base_uri": "https://localhost:8080/"
        },
        "id": "wPhLrcvCxF-y",
        "outputId": "7cf454ad-0b3a-4483-ad1d-36ee7537dbc0"
      },
      "outputs": [
        {
          "name": "stdout",
          "output_type": "stream",
          "text": [
            "MAE: 456.8821483214351\n",
            "MSE: 7005045.181439343\n",
            "RMSE: 2646.7045890010736\n",
            "MAPE: 1.0244852871332037\n",
            "R^2: 0.022495847337780095\n"
          ]
        }
      ],
      "source": [
        "print(f'MAE: {mean_absolute_error(y_test_reg, y_pred_reg)}')\n",
        "print(f'MSE: {mean_squared_error(y_test_reg, y_pred_reg)}')\n",
        "print(f'RMSE: {sqrt(mean_squared_error(y_test_reg, y_pred_reg))}')\n",
        "print(f'MAPE: {sqrt(mean_absolute_percentage_error(y_test_reg, y_pred_reg))}')\n",
        "print(f'R^2: {r2_score(y_test_reg, y_pred_reg)}')"
      ]
    },
    {
      "cell_type": "markdown",
      "metadata": {
        "id": "e3pe-t1gj08k"
      },
      "source": [
        "### Задание 3. \n",
        "### Попробовать для решения задачи регрессии и классификации одну из библиотек (на выбор)"
      ]
    },
    {
      "cell_type": "markdown",
      "metadata": {
        "id": "lzgGiWV2yWpZ"
      },
      "source": [
        "### LightGBM"
      ]
    },
    {
      "cell_type": "markdown",
      "metadata": {
        "id": "WRU6LkE5J9Fv"
      },
      "source": [
        "### Классификация"
      ]
    },
    {
      "cell_type": "code",
      "execution_count": null,
      "metadata": {
        "colab": {
          "base_uri": "https://localhost:8080/"
        },
        "id": "L7h_7WMgI4cS",
        "outputId": "c03aaf2f-a2e0-4a1a-9968-cb3ff1619389"
      },
      "outputs": [
        {
          "name": "stdout",
          "output_type": "stream",
          "text": [
            "{'learning_rate': 0.1, 'max_depth': 3, 'n_estimators': 300}\n",
            "0.9786262331019364\n"
          ]
        }
      ],
      "source": [
        "from lightgbm import LGBMClassifier\n",
        "\n",
        "\n",
        "param_grid = {\n",
        "    'n_estimators': [100, 200, 300],\n",
        "    'learning_rate': [0.01, 0.05, 0.1],\n",
        "    'max_depth': [3, 5, 7]\n",
        "}\n",
        "\n",
        "\n",
        "grid_search = GridSearchCV(LGBMClassifier(), param_grid)\n",
        "grid_search.fit(X_train_std_clf, y_train_clf)\n",
        "best_params = grid_search.best_params_\n",
        "print(best_params)\n",
        "\n",
        "\n",
        "y_pred_clf = grid_search.predict(X_test_std_clf)\n",
        "print(grid_search.score(X_test_std_clf, y_test_clf))"
      ]
    },
    {
      "cell_type": "code",
      "execution_count": null,
      "metadata": {
        "colab": {
          "base_uri": "https://localhost:8080/"
        },
        "id": "2qsNEczbxM8p",
        "outputId": "191c0795-4a38-4689-ab38-07063a57c391"
      },
      "outputs": [
        {
          "name": "stdout",
          "output_type": "stream",
          "text": [
            "Accuracy: 0.9786262331019364\n",
            "Confusion matrix:\n",
            " [[2695   89]\n",
            " [  28 2662]]\n",
            "Precision, Recall, F-score:\n",
            "              precision    recall  f1-score   support\n",
            "\n",
            "           0       0.99      0.97      0.98      2784\n",
            "           1       0.97      0.99      0.98      2690\n",
            "\n",
            "    accuracy                           0.98      5474\n",
            "   macro avg       0.98      0.98      0.98      5474\n",
            "weighted avg       0.98      0.98      0.98      5474\n",
            "\n"
          ]
        }
      ],
      "source": [
        "print(f\"Accuracy: {accuracy_score(y_test_clf, y_pred_clf)}\")\n",
        "print(f\"Confusion matrix:\\n {confusion_matrix(y_test_clf, y_pred_clf)}\")\n",
        "print(f\"Precision, Recall, F-score:\\n{classification_report(y_test_clf, y_pred_clf)}\")"
      ]
    },
    {
      "cell_type": "markdown",
      "metadata": {
        "id": "nLJpYL4MJ8K_"
      },
      "source": [
        "### Регрессия"
      ]
    },
    {
      "cell_type": "code",
      "execution_count": null,
      "metadata": {
        "colab": {
          "base_uri": "https://localhost:8080/"
        },
        "id": "c4waJvnGKBsX",
        "outputId": "f31b393e-a320-472f-e29e-cd22f3625ab7"
      },
      "outputs": [
        {
          "name": "stdout",
          "output_type": "stream",
          "text": [
            "{'learning_rate': 0.01, 'max_depth': 5, 'n_estimators': 100}\n",
            "-0.26990818494513635\n"
          ]
        }
      ],
      "source": [
        "from lightgbm import LGBMRegressor\n",
        "\n",
        "\n",
        "param_grid = {\n",
        "    'n_estimators': [100, 200, 300],\n",
        "    'learning_rate': [0.01, 0.05, 0.1],\n",
        "    'max_depth': [3, 5, 7]\n",
        "}\n",
        "\n",
        "\n",
        "grid_search = GridSearchCV(LGBMRegressor(), param_grid)\n",
        "grid_search.fit(X_train_reg, y_train_reg)\n",
        "best_params = grid_search.best_params_\n",
        "print(best_params)\n",
        "\n",
        "\n",
        "y_pred_reg = grid_search.predict(X_test_reg)\n",
        "print(grid_search.score(X_test_reg, y_test_reg))"
      ]
    },
    {
      "cell_type": "code",
      "execution_count": null,
      "metadata": {
        "colab": {
          "base_uri": "https://localhost:8080/"
        },
        "id": "0pyG3rTQx57e",
        "outputId": "05759441-b79b-425b-b796-cde5a792e68f"
      },
      "outputs": [
        {
          "name": "stdout",
          "output_type": "stream",
          "text": [
            "MAE: 541.5469259371781\n",
            "MSE: 9100487.386772538\n",
            "RMSE: 3016.7014082889505\n",
            "MAPE: 1.1805900256682418\n",
            "R^2: -0.26990818494513635\n"
          ]
        }
      ],
      "source": [
        "print(f'MAE: {mean_absolute_error(y_test_reg, y_pred_reg)}')\n",
        "print(f'MSE: {mean_squared_error(y_test_reg, y_pred_reg)}')\n",
        "print(f'RMSE: {sqrt(mean_squared_error(y_test_reg, y_pred_reg))}')\n",
        "print(f'MAPE: {sqrt(mean_absolute_percentage_error(y_test_reg, y_pred_reg))}')\n",
        "print(f'R^2: {r2_score(y_test_reg, y_pred_reg)}')"
      ]
    },
    {
      "cell_type": "markdown",
      "metadata": {
        "id": "ZEthUbXiMRiP"
      },
      "source": [
        "### Задание 4.\n",
        "### Реализовать обучения и вычисления дерева с использованием алгоритма CART для задачи регрессии и классификации."
      ]
    },
    {
      "cell_type": "code",
      "execution_count": null,
      "metadata": {
        "id": "rhMopFxibWjz"
      },
      "outputs": [],
      "source": [
        "class Node():\n",
        "    def __init__(self, feature_index=None, threshold=None, left=None, right=None, info_gain=None, value=None):\n",
        "        self.feature_index = feature_index\n",
        "        self.threshold = threshold\n",
        "        self.left = left\n",
        "        self.right = right\n",
        "        self.info_gain = info_gain\n",
        "        self.value = value"
      ]
    },
    {
      "cell_type": "code",
      "execution_count": null,
      "metadata": {
        "id": "cS5t6vUYMW_v"
      },
      "outputs": [],
      "source": [
        "class CART():\n",
        "    def __init__(self, min_samples_split=2, max_depth=2, isRegression = False):\n",
        "        self.root = None\n",
        "        self.min_samples_split = min_samples_split\n",
        "        self.max_depth = max_depth\n",
        "        self.isRegression = isRegression\n",
        "        \n",
        "    def build_tree(self, dataset, curr_depth=0):\n",
        "        X, Y = dataset[:,:-1], dataset[:,-1]\n",
        "        num_samples, num_features = np.shape(X)\n",
        "        if num_samples>=self.min_samples_split and curr_depth<=self.max_depth:\n",
        "            best_split = self.get_best_split(dataset, num_samples, num_features)\n",
        "            if best_split[\"info_gain\"]>0:\n",
        "                left_subtree = self.build_tree(best_split[\"dataset_left\"], curr_depth+1)\n",
        "                right_subtree = self.build_tree(best_split[\"dataset_right\"], curr_depth+1)\n",
        "                return Node(best_split[\"feature_index\"], best_split[\"threshold\"], \n",
        "                            left_subtree, right_subtree, best_split[\"info_gain\"])\n",
        "\n",
        "        leaf_value = self.calculate_leaf_value(Y)\n",
        "        return Node(value=leaf_value)\n",
        "    \n",
        "    def get_best_split(self, dataset, num_samples, num_features):\n",
        "        best_split = {}\n",
        "        max_info_gain = -float(\"inf\")\n",
        "        \n",
        "        for feature_index in range(num_features):\n",
        "            feature_values = dataset[:, feature_index]\n",
        "            possible_thresholds = np.unique(feature_values)\n",
        "            for threshold in possible_thresholds:\n",
        "                dataset_left, dataset_right = self.split(dataset, feature_index, threshold)\n",
        "                if len(dataset_left)>0 and len(dataset_right)>0:\n",
        "                    y, left_y, right_y = dataset[:, -1], dataset_left[:, -1], dataset_right[:, -1]\n",
        "                    curr_info_gain = self.information_gain(y, left_y, right_y)\n",
        "                    if curr_info_gain>max_info_gain:\n",
        "                        best_split[\"feature_index\"] = feature_index\n",
        "                        best_split[\"threshold\"] = threshold\n",
        "                        best_split[\"dataset_left\"] = dataset_left\n",
        "                        best_split[\"dataset_right\"] = dataset_right\n",
        "                        best_split[\"info_gain\"] = curr_info_gain\n",
        "                        max_info_gain = curr_info_gain\n",
        "                        \n",
        "        return best_split\n",
        "    \n",
        "    def split(self, dataset, feature_index, threshold):\n",
        "        dataset_left = np.array([row for row in dataset if row[feature_index]<=threshold])\n",
        "        dataset_right = np.array([row for row in dataset if row[feature_index]>threshold])\n",
        "        return dataset_left, dataset_right\n",
        "    \n",
        "    def information_gain(self, parent, l_child, r_child):\n",
        "        weight_l = len(l_child) / len(parent)\n",
        "        weight_r = len(r_child) / len(parent)\n",
        "    \n",
        "        if self.mode == \"entropy\":\n",
        "            gain = self.entropy(parent) - (weight_l*self.entropy(l_child) + weight_r*self.entropy(r_child))\n",
        "        else:\n",
        "            gain = self.mean_squared_error(parent) - (weight_l*self.mean_squared_error(l_child) + weight_r*self.mean_squared_error(r_child))\n",
        "        return gain\n",
        "    \n",
        "    def entropy(self, y):\n",
        "        class_labels = np.unique(y)\n",
        "        entropy = 0\n",
        "        for cls in class_labels:\n",
        "            p_cls = len(y[y == cls]) / len(y)\n",
        "            entropy += -p_cls * np.log2(p_cls)\n",
        "        return entropy\n",
        "        \n",
        "    def mean_squared_error(self, y):\n",
        "        mean = np.mean(y)\n",
        "        mse = np.mean((y - mean)**2)\n",
        "        return mse\n",
        "        \n",
        "    def calculate_leaf_value(self, Y):\n",
        "        if self.isRegression:\n",
        "            return np.mean(Y)\n",
        "        Y = list(Y)\n",
        "        return max(Y, key=Y.count)\n",
        "       \n",
        "    def fit(self, X, Y):\n",
        "        if self.isRegression:\n",
        "            self.mode = \"mse\"\n",
        "        else:\n",
        "            self.mode = \"entropy\"\n",
        "        dataset = np.column_stack((X, Y))\n",
        "        self.root = self.build_tree(dataset)\n",
        "    \n",
        "    def predict(self, X):\n",
        "        preditions = [self.make_prediction(x, self.root) for x in X]\n",
        "        return preditions\n",
        "    \n",
        "    def make_prediction(self, x, tree):\n",
        "        if tree.value!=None: return tree.value\n",
        "        feature_val = x[tree.feature_index]\n",
        "        if feature_val<=tree.threshold:\n",
        "            return self.make_prediction(x, tree.left)\n",
        "        else:\n",
        "            return self.make_prediction(x, tree.right)"
      ]
    },
    {
      "cell_type": "markdown",
      "metadata": {
        "id": "BkEL05d-MkUD"
      },
      "source": [
        "### Классификация"
      ]
    },
    {
      "cell_type": "code",
      "execution_count": null,
      "metadata": {
        "colab": {
          "base_uri": "https://localhost:8080/"
        },
        "id": "xq3n5dCiMhyB",
        "outputId": "6490d831-81d3-4d59-ab05-5e3cd8c0c501"
      },
      "outputs": [
        {
          "name": "stdout",
          "output_type": "stream",
          "text": [
            "(21894,)\n",
            "(21894, 17)\n"
          ]
        }
      ],
      "source": [
        "tree = CART()\n",
        "print(y_train_clf.shape)\n",
        "print(X_train_std_clf.shape)\n",
        "tree.fit(X_train_std_clf, y_train_clf)\n",
        "y_pred_clf = tree.predict(X_test_std_clf)"
      ]
    },
    {
      "cell_type": "code",
      "execution_count": null,
      "metadata": {
        "colab": {
          "base_uri": "https://localhost:8080/"
        },
        "id": "GVuPCi6PcYPU",
        "outputId": "e351f446-c01a-4340-c8fc-cb8d3208ad01"
      },
      "outputs": [
        {
          "name": "stdout",
          "output_type": "stream",
          "text": [
            "Accuracy: 0.9413591523565948\n",
            "Confusion matrix:\n",
            " [[2564  220]\n",
            " [ 101 2589]]\n",
            "Precision, Recall, F-score:\n",
            "              precision    recall  f1-score   support\n",
            "\n",
            "           0       0.96      0.92      0.94      2784\n",
            "           1       0.92      0.96      0.94      2690\n",
            "\n",
            "    accuracy                           0.94      5474\n",
            "   macro avg       0.94      0.94      0.94      5474\n",
            "weighted avg       0.94      0.94      0.94      5474\n",
            "\n"
          ]
        }
      ],
      "source": [
        "print(f\"Accuracy: {accuracy_score(y_test_clf, y_pred_clf)}\")\n",
        "print(f\"Confusion matrix:\\n {confusion_matrix(y_test_clf, y_pred_clf)}\")\n",
        "print(f\"Precision, Recall, F-score:\\n{classification_report(y_test_clf, y_pred_clf)}\")"
      ]
    },
    {
      "cell_type": "markdown",
      "metadata": {
        "id": "znzNR7fVhvfH"
      },
      "source": [
        "### Регрессия"
      ]
    },
    {
      "cell_type": "code",
      "execution_count": null,
      "metadata": {
        "colab": {
          "base_uri": "https://localhost:8080/",
          "height": 424
        },
        "id": "eRaSdSSzhu8R",
        "outputId": "618376e7-835b-4589-fc7c-045c5fa111ab"
      },
      "outputs": [
        {
          "data": {
            "text/html": [
              "\n",
              "  <div id=\"df-982588e1-3625-41c9-bf18-693d0727a7db\">\n",
              "    <div class=\"colab-df-container\">\n",
              "      <div>\n",
              "<style scoped>\n",
              "    .dataframe tbody tr th:only-of-type {\n",
              "        vertical-align: middle;\n",
              "    }\n",
              "\n",
              "    .dataframe tbody tr th {\n",
              "        vertical-align: top;\n",
              "    }\n",
              "\n",
              "    .dataframe thead th {\n",
              "        text-align: right;\n",
              "    }\n",
              "</style>\n",
              "<table border=\"1\" class=\"dataframe\">\n",
              "  <thead>\n",
              "    <tr style=\"text-align: right;\">\n",
              "      <th></th>\n",
              "      <th>pickup_longitude</th>\n",
              "      <th>pickup_latitude</th>\n",
              "      <th>dropoff_longitude</th>\n",
              "      <th>dropoff_latitude</th>\n",
              "      <th>trip_duration</th>\n",
              "    </tr>\n",
              "  </thead>\n",
              "  <tbody>\n",
              "    <tr>\n",
              "      <th>0</th>\n",
              "      <td>-73.953918</td>\n",
              "      <td>40.778873</td>\n",
              "      <td>-73.963875</td>\n",
              "      <td>40.771164</td>\n",
              "      <td>400</td>\n",
              "    </tr>\n",
              "    <tr>\n",
              "      <th>1</th>\n",
              "      <td>-73.988312</td>\n",
              "      <td>40.731743</td>\n",
              "      <td>-73.994751</td>\n",
              "      <td>40.694931</td>\n",
              "      <td>1100</td>\n",
              "    </tr>\n",
              "    <tr>\n",
              "      <th>2</th>\n",
              "      <td>-73.997314</td>\n",
              "      <td>40.721458</td>\n",
              "      <td>-73.948029</td>\n",
              "      <td>40.774918</td>\n",
              "      <td>1635</td>\n",
              "    </tr>\n",
              "    <tr>\n",
              "      <th>3</th>\n",
              "      <td>-73.961670</td>\n",
              "      <td>40.759720</td>\n",
              "      <td>-73.956779</td>\n",
              "      <td>40.780628</td>\n",
              "      <td>1141</td>\n",
              "    </tr>\n",
              "    <tr>\n",
              "      <th>4</th>\n",
              "      <td>-74.017120</td>\n",
              "      <td>40.708469</td>\n",
              "      <td>-73.988182</td>\n",
              "      <td>40.740631</td>\n",
              "      <td>848</td>\n",
              "    </tr>\n",
              "    <tr>\n",
              "      <th>...</th>\n",
              "      <td>...</td>\n",
              "      <td>...</td>\n",
              "      <td>...</td>\n",
              "      <td>...</td>\n",
              "      <td>...</td>\n",
              "    </tr>\n",
              "    <tr>\n",
              "      <th>9995</th>\n",
              "      <td>-73.971199</td>\n",
              "      <td>40.788700</td>\n",
              "      <td>-74.015770</td>\n",
              "      <td>40.707981</td>\n",
              "      <td>2090</td>\n",
              "    </tr>\n",
              "    <tr>\n",
              "      <th>9996</th>\n",
              "      <td>-73.966499</td>\n",
              "      <td>40.753269</td>\n",
              "      <td>-73.965927</td>\n",
              "      <td>40.764671</td>\n",
              "      <td>212</td>\n",
              "    </tr>\n",
              "    <tr>\n",
              "      <th>9997</th>\n",
              "      <td>-73.980530</td>\n",
              "      <td>40.738190</td>\n",
              "      <td>-73.994179</td>\n",
              "      <td>40.740410</td>\n",
              "      <td>379</td>\n",
              "    </tr>\n",
              "    <tr>\n",
              "      <th>9998</th>\n",
              "      <td>-73.975517</td>\n",
              "      <td>40.749168</td>\n",
              "      <td>-73.975258</td>\n",
              "      <td>40.787720</td>\n",
              "      <td>925</td>\n",
              "    </tr>\n",
              "    <tr>\n",
              "      <th>9999</th>\n",
              "      <td>-73.955521</td>\n",
              "      <td>40.778946</td>\n",
              "      <td>-73.967377</td>\n",
              "      <td>40.763523</td>\n",
              "      <td>781</td>\n",
              "    </tr>\n",
              "  </tbody>\n",
              "</table>\n",
              "<p>10000 rows × 5 columns</p>\n",
              "</div>\n",
              "      <button class=\"colab-df-convert\" onclick=\"convertToInteractive('df-982588e1-3625-41c9-bf18-693d0727a7db')\"\n",
              "              title=\"Convert this dataframe to an interactive table.\"\n",
              "              style=\"display:none;\">\n",
              "        \n",
              "  <svg xmlns=\"http://www.w3.org/2000/svg\" height=\"24px\"viewBox=\"0 0 24 24\"\n",
              "       width=\"24px\">\n",
              "    <path d=\"M0 0h24v24H0V0z\" fill=\"none\"/>\n",
              "    <path d=\"M18.56 5.44l.94 2.06.94-2.06 2.06-.94-2.06-.94-.94-2.06-.94 2.06-2.06.94zm-11 1L8.5 8.5l.94-2.06 2.06-.94-2.06-.94L8.5 2.5l-.94 2.06-2.06.94zm10 10l.94 2.06.94-2.06 2.06-.94-2.06-.94-.94-2.06-.94 2.06-2.06.94z\"/><path d=\"M17.41 7.96l-1.37-1.37c-.4-.4-.92-.59-1.43-.59-.52 0-1.04.2-1.43.59L10.3 9.45l-7.72 7.72c-.78.78-.78 2.05 0 2.83L4 21.41c.39.39.9.59 1.41.59.51 0 1.02-.2 1.41-.59l7.78-7.78 2.81-2.81c.8-.78.8-2.07 0-2.86zM5.41 20L4 18.59l7.72-7.72 1.47 1.35L5.41 20z\"/>\n",
              "  </svg>\n",
              "      </button>\n",
              "      \n",
              "  <style>\n",
              "    .colab-df-container {\n",
              "      display:flex;\n",
              "      flex-wrap:wrap;\n",
              "      gap: 12px;\n",
              "    }\n",
              "\n",
              "    .colab-df-convert {\n",
              "      background-color: #E8F0FE;\n",
              "      border: none;\n",
              "      border-radius: 50%;\n",
              "      cursor: pointer;\n",
              "      display: none;\n",
              "      fill: #1967D2;\n",
              "      height: 32px;\n",
              "      padding: 0 0 0 0;\n",
              "      width: 32px;\n",
              "    }\n",
              "\n",
              "    .colab-df-convert:hover {\n",
              "      background-color: #E2EBFA;\n",
              "      box-shadow: 0px 1px 2px rgba(60, 64, 67, 0.3), 0px 1px 3px 1px rgba(60, 64, 67, 0.15);\n",
              "      fill: #174EA6;\n",
              "    }\n",
              "\n",
              "    [theme=dark] .colab-df-convert {\n",
              "      background-color: #3B4455;\n",
              "      fill: #D2E3FC;\n",
              "    }\n",
              "\n",
              "    [theme=dark] .colab-df-convert:hover {\n",
              "      background-color: #434B5C;\n",
              "      box-shadow: 0px 1px 3px 1px rgba(0, 0, 0, 0.15);\n",
              "      filter: drop-shadow(0px 1px 2px rgba(0, 0, 0, 0.3));\n",
              "      fill: #FFFFFF;\n",
              "    }\n",
              "  </style>\n",
              "\n",
              "      <script>\n",
              "        const buttonEl =\n",
              "          document.querySelector('#df-982588e1-3625-41c9-bf18-693d0727a7db button.colab-df-convert');\n",
              "        buttonEl.style.display =\n",
              "          google.colab.kernel.accessAllowed ? 'block' : 'none';\n",
              "\n",
              "        async function convertToInteractive(key) {\n",
              "          const element = document.querySelector('#df-982588e1-3625-41c9-bf18-693d0727a7db');\n",
              "          const dataTable =\n",
              "            await google.colab.kernel.invokeFunction('convertToInteractive',\n",
              "                                                     [key], {});\n",
              "          if (!dataTable) return;\n",
              "\n",
              "          const docLinkHtml = 'Like what you see? Visit the ' +\n",
              "            '<a target=\"_blank\" href=https://colab.research.google.com/notebooks/data_table.ipynb>data table notebook</a>'\n",
              "            + ' to learn more about interactive tables.';\n",
              "          element.innerHTML = '';\n",
              "          dataTable['output_type'] = 'display_data';\n",
              "          await google.colab.output.renderOutput(dataTable, element);\n",
              "          const docLink = document.createElement('div');\n",
              "          docLink.innerHTML = docLinkHtml;\n",
              "          element.appendChild(docLink);\n",
              "        }\n",
              "      </script>\n",
              "    </div>\n",
              "  </div>\n",
              "  "
            ],
            "text/plain": [
              "      pickup_longitude  pickup_latitude  dropoff_longitude  dropoff_latitude  \\\n",
              "0           -73.953918        40.778873         -73.963875         40.771164   \n",
              "1           -73.988312        40.731743         -73.994751         40.694931   \n",
              "2           -73.997314        40.721458         -73.948029         40.774918   \n",
              "3           -73.961670        40.759720         -73.956779         40.780628   \n",
              "4           -74.017120        40.708469         -73.988182         40.740631   \n",
              "...                ...              ...                ...               ...   \n",
              "9995        -73.971199        40.788700         -74.015770         40.707981   \n",
              "9996        -73.966499        40.753269         -73.965927         40.764671   \n",
              "9997        -73.980530        40.738190         -73.994179         40.740410   \n",
              "9998        -73.975517        40.749168         -73.975258         40.787720   \n",
              "9999        -73.955521        40.778946         -73.967377         40.763523   \n",
              "\n",
              "      trip_duration  \n",
              "0               400  \n",
              "1              1100  \n",
              "2              1635  \n",
              "3              1141  \n",
              "4               848  \n",
              "...             ...  \n",
              "9995           2090  \n",
              "9996            212  \n",
              "9997            379  \n",
              "9998            925  \n",
              "9999            781  \n",
              "\n",
              "[10000 rows x 5 columns]"
            ]
          },
          "metadata": {},
          "output_type": "display_data"
        }
      ],
      "source": [
        "df = pd.read_csv(\"/content/drive/MyDrive/ML/RegressionFirstLab/trip_duration_update.csv\", index_col=0).head(10000)\n",
        "display(df)\n",
        "\n",
        "y = df['trip_duration'].values\n",
        "X = df.drop(['trip_duration'], axis=1).values\n",
        "\n",
        "X_train_reg, X_test_reg, y_train_reg, y_test_reg = train_test_split(X, y, test_size=0.2)\n",
        "\n",
        "\n",
        "treeReg = CART(isRegression=True)\n",
        "treeReg.fit(X_train_reg, y_train_reg)\n",
        "y_pred_reg = treeReg.predict(X_test_reg)"
      ]
    },
    {
      "cell_type": "code",
      "execution_count": null,
      "metadata": {
        "colab": {
          "base_uri": "https://localhost:8080/"
        },
        "id": "LjYR5uBPuulS",
        "outputId": "fa614938-5d66-431e-8a15-4cb78fae285a"
      },
      "outputs": [
        {
          "name": "stdout",
          "output_type": "stream",
          "text": [
            "MAE: 426.3746066545871\n",
            "MSE: 291926.9721446511\n",
            "RMSE: 540.3026671641101\n",
            "MAPE: 1.0789668641631387\n",
            "R^2: 0.211177782301059\n"
          ]
        }
      ],
      "source": [
        "print(f'MAE: {mean_absolute_error(y_test_reg, y_pred_reg)}')\n",
        "print(f'MSE: {mean_squared_error(y_test_reg, y_pred_reg)}')\n",
        "print(f'RMSE: {sqrt(mean_squared_error(y_test_reg, y_pred_reg))}')\n",
        "print(f'MAPE: {sqrt(mean_absolute_percentage_error(y_test_reg, y_pred_reg))}')\n",
        "print(f'R^2: {r2_score(y_test_reg, y_pred_reg)}')"
      ]
    },
    {
      "cell_type": "markdown",
      "metadata": {
        "id": "rO_neelBpl9k"
      },
      "source": [
        "### BaggingRealization"
      ]
    },
    {
      "cell_type": "code",
      "execution_count": null,
      "metadata": {
        "id": "ElREKcJ9plNs"
      },
      "outputs": [],
      "source": []
    }
  ],
  "metadata": {
    "colab": {
      "provenance": []
    },
    "kernelspec": {
      "display_name": "Python 3",
      "name": "python3"
    },
    "language_info": {
      "codemirror_mode": {
        "name": "ipython",
        "version": 3
      },
      "file_extension": ".py",
      "mimetype": "text/x-python",
      "name": "python",
      "nbconvert_exporter": "python",
      "pygments_lexer": "ipython3",
      "version": "3.9.13"
    }
  },
  "nbformat": 4,
  "nbformat_minor": 0
}
